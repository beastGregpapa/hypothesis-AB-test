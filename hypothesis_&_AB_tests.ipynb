{
  "nbformat": 4,
  "nbformat_minor": 0,
  "metadata": {
    "colab": {
      "name": "hypothesis & AB-tests.ipynb",
      "provenance": [],
      "collapsed_sections": []
    },
    "kernelspec": {
      "name": "python3",
      "display_name": "Python 3"
    },
    "language_info": {
      "name": "python"
    }
  },
  "cells": [
    {
      "cell_type": "markdown",
      "source": [
        "##1. Осьминог Пауль"
      ],
      "metadata": {
        "id": "J6MEr432XuQA"
      }
    },
    {
      "cell_type": "markdown",
      "source": [
        "Имея результаты предсказаний, можно составить соответствующее Биномиальное распределение c p = 0.5 (вероятность угадывания)"
      ],
      "metadata": {
        "id": "8vtte9sGX_vX"
      }
    },
    {
      "cell_type": "code",
      "source": [
        "Bin = [1, 0, 1, 1, 1, 0, 1, 1, 1, 1, 1, 1, 1]\n",
        "# где 0 - неверное предсказание, 1 - верное предсказание \n",
        "alpha = 0.05\n",
        "# уровень значимости"
      ],
      "metadata": {
        "id": "Tqort-oWXuiS"
      },
      "execution_count": null,
      "outputs": []
    },
    {
      "cell_type": "markdown",
      "source": [
        "One-tailed hypothesis:\n",
        "\n",
        "$H_0$ (нулевая гипотеза): $p \\le$ 0.5, тогда выбор осьминога оказался случайным\n",
        "\n",
        "$H_1$ (альтернативная гипотеза): $p >$ 0.5, тогда осьминог Пауль и правда оказался талантливым экстрасенсом со способностями к предсказаниям\n",
        "\n",
        "P.S. ошибка 1-го рода: $\\alpha$ = 0.05 (уровень значимости)"
      ],
      "metadata": {
        "id": "LkgPavyNY5bb"
      }
    },
    {
      "cell_type": "code",
      "source": [
        "from scipy import stats"
      ],
      "metadata": {
        "id": "-SgWeb4-QkwV"
      },
      "execution_count": null,
      "outputs": []
    },
    {
      "cell_type": "code",
      "source": [
        "# имея 13 предсказаний на исход матчей и вероятность угадывания 0.5\n",
        "p_value = stats.binom_test(sum(Bin), 13, 0.5, alternative = 'greater')\n",
        "print(p_value)"
      ],
      "metadata": {
        "colab": {
          "base_uri": "https://localhost:8080/"
        },
        "id": "pbE10bCNYWS4",
        "outputId": "9caa0a8a-0ccd-4383-a4da-a80347dda610"
      },
      "execution_count": null,
      "outputs": [
        {
          "output_type": "stream",
          "name": "stdout",
          "text": [
            "0.01123046875\n"
          ]
        }
      ]
    },
    {
      "cell_type": "code",
      "source": [
        "if p_value < alpha:\n",
        "    print(\"Вердикт: Reject H_0\")\n",
        "else:\n",
        "    print(\"Вердикт: Do not reject H_0\") "
      ],
      "metadata": {
        "colab": {
          "base_uri": "https://localhost:8080/"
        },
        "id": "NgLhhEAKYWPp",
        "outputId": "d2e40e56-396f-460b-b1be-5623a3f277e8"
      },
      "execution_count": null,
      "outputs": [
        {
          "output_type": "stream",
          "name": "stdout",
          "text": [
            "Вердикт: Reject H_0\n"
          ]
        }
      ]
    },
    {
      "cell_type": "markdown",
      "source": [
        "Поскольку мы отвергаем нулевую гипотезу $H_0$, получив $p$ = 0.01, что говорит о том, что $p >$  0.5. Поэтому, мы видим, что осьминог Пауль действительно оказался талантливым экстрасенсом со способностями к предсказаниям, угадав исход 11/13 матчей сборной Германии по футболу. "
      ],
      "metadata": {
        "id": "-r8TbLorZqzt"
      }
    },
    {
      "cell_type": "markdown",
      "source": [
        "##2. Корм и котики"
      ],
      "metadata": {
        "id": "i2mhp1-7PEzQ"
      }
    },
    {
      "cell_type": "code",
      "execution_count": null,
      "metadata": {
        "id": "FnopNYX10fhQ"
      },
      "outputs": [],
      "source": [
        "import pandas as pd\n",
        "import numpy as np\n",
        "df = pd.read_csv(\"https://raw.githubusercontent.com/V-Marco/public_intro_to_DS_mba_hse/main/HW/HW3/banner_click_stat.csv\", header = None, sep = '\\t')"
      ]
    },
    {
      "cell_type": "code",
      "source": [
        "df.shape"
      ],
      "metadata": {
        "colab": {
          "base_uri": "https://localhost:8080/"
        },
        "id": "gHW87C4CPe0Q",
        "outputId": "9cc4a065-c55c-41fa-ec8e-a62de5145bc6"
      },
      "execution_count": null,
      "outputs": [
        {
          "output_type": "execute_result",
          "data": {
            "text/plain": [
              "(1000, 2)"
            ]
          },
          "metadata": {},
          "execution_count": 123
        }
      ]
    },
    {
      "cell_type": "code",
      "source": [
        "df.columns = ['banner_1', 'banner_2']\n",
        "df"
      ],
      "metadata": {
        "colab": {
          "base_uri": "https://localhost:8080/",
          "height": 419
        },
        "id": "42zUhOkuPexd",
        "outputId": "1c0d859a-922b-48c4-8087-d070e852ea7c"
      },
      "execution_count": null,
      "outputs": [
        {
          "output_type": "execute_result",
          "data": {
            "text/plain": [
              "     banner_1  banner_2\n",
              "0           0         0\n",
              "1           1         1\n",
              "2           0         0\n",
              "3           0         0\n",
              "4           0         0\n",
              "..        ...       ...\n",
              "995         0         0\n",
              "996         0         0\n",
              "997         0         0\n",
              "998         0         0\n",
              "999         0         0\n",
              "\n",
              "[1000 rows x 2 columns]"
            ],
            "text/html": [
              "\n",
              "  <div id=\"df-0598a86c-f4a1-43cf-b55d-6cf5fb486ea1\">\n",
              "    <div class=\"colab-df-container\">\n",
              "      <div>\n",
              "<style scoped>\n",
              "    .dataframe tbody tr th:only-of-type {\n",
              "        vertical-align: middle;\n",
              "    }\n",
              "\n",
              "    .dataframe tbody tr th {\n",
              "        vertical-align: top;\n",
              "    }\n",
              "\n",
              "    .dataframe thead th {\n",
              "        text-align: right;\n",
              "    }\n",
              "</style>\n",
              "<table border=\"1\" class=\"dataframe\">\n",
              "  <thead>\n",
              "    <tr style=\"text-align: right;\">\n",
              "      <th></th>\n",
              "      <th>banner_1</th>\n",
              "      <th>banner_2</th>\n",
              "    </tr>\n",
              "  </thead>\n",
              "  <tbody>\n",
              "    <tr>\n",
              "      <th>0</th>\n",
              "      <td>0</td>\n",
              "      <td>0</td>\n",
              "    </tr>\n",
              "    <tr>\n",
              "      <th>1</th>\n",
              "      <td>1</td>\n",
              "      <td>1</td>\n",
              "    </tr>\n",
              "    <tr>\n",
              "      <th>2</th>\n",
              "      <td>0</td>\n",
              "      <td>0</td>\n",
              "    </tr>\n",
              "    <tr>\n",
              "      <th>3</th>\n",
              "      <td>0</td>\n",
              "      <td>0</td>\n",
              "    </tr>\n",
              "    <tr>\n",
              "      <th>4</th>\n",
              "      <td>0</td>\n",
              "      <td>0</td>\n",
              "    </tr>\n",
              "    <tr>\n",
              "      <th>...</th>\n",
              "      <td>...</td>\n",
              "      <td>...</td>\n",
              "    </tr>\n",
              "    <tr>\n",
              "      <th>995</th>\n",
              "      <td>0</td>\n",
              "      <td>0</td>\n",
              "    </tr>\n",
              "    <tr>\n",
              "      <th>996</th>\n",
              "      <td>0</td>\n",
              "      <td>0</td>\n",
              "    </tr>\n",
              "    <tr>\n",
              "      <th>997</th>\n",
              "      <td>0</td>\n",
              "      <td>0</td>\n",
              "    </tr>\n",
              "    <tr>\n",
              "      <th>998</th>\n",
              "      <td>0</td>\n",
              "      <td>0</td>\n",
              "    </tr>\n",
              "    <tr>\n",
              "      <th>999</th>\n",
              "      <td>0</td>\n",
              "      <td>0</td>\n",
              "    </tr>\n",
              "  </tbody>\n",
              "</table>\n",
              "<p>1000 rows × 2 columns</p>\n",
              "</div>\n",
              "      <button class=\"colab-df-convert\" onclick=\"convertToInteractive('df-0598a86c-f4a1-43cf-b55d-6cf5fb486ea1')\"\n",
              "              title=\"Convert this dataframe to an interactive table.\"\n",
              "              style=\"display:none;\">\n",
              "        \n",
              "  <svg xmlns=\"http://www.w3.org/2000/svg\" height=\"24px\"viewBox=\"0 0 24 24\"\n",
              "       width=\"24px\">\n",
              "    <path d=\"M0 0h24v24H0V0z\" fill=\"none\"/>\n",
              "    <path d=\"M18.56 5.44l.94 2.06.94-2.06 2.06-.94-2.06-.94-.94-2.06-.94 2.06-2.06.94zm-11 1L8.5 8.5l.94-2.06 2.06-.94-2.06-.94L8.5 2.5l-.94 2.06-2.06.94zm10 10l.94 2.06.94-2.06 2.06-.94-2.06-.94-.94-2.06-.94 2.06-2.06.94z\"/><path d=\"M17.41 7.96l-1.37-1.37c-.4-.4-.92-.59-1.43-.59-.52 0-1.04.2-1.43.59L10.3 9.45l-7.72 7.72c-.78.78-.78 2.05 0 2.83L4 21.41c.39.39.9.59 1.41.59.51 0 1.02-.2 1.41-.59l7.78-7.78 2.81-2.81c.8-.78.8-2.07 0-2.86zM5.41 20L4 18.59l7.72-7.72 1.47 1.35L5.41 20z\"/>\n",
              "  </svg>\n",
              "      </button>\n",
              "      \n",
              "  <style>\n",
              "    .colab-df-container {\n",
              "      display:flex;\n",
              "      flex-wrap:wrap;\n",
              "      gap: 12px;\n",
              "    }\n",
              "\n",
              "    .colab-df-convert {\n",
              "      background-color: #E8F0FE;\n",
              "      border: none;\n",
              "      border-radius: 50%;\n",
              "      cursor: pointer;\n",
              "      display: none;\n",
              "      fill: #1967D2;\n",
              "      height: 32px;\n",
              "      padding: 0 0 0 0;\n",
              "      width: 32px;\n",
              "    }\n",
              "\n",
              "    .colab-df-convert:hover {\n",
              "      background-color: #E2EBFA;\n",
              "      box-shadow: 0px 1px 2px rgba(60, 64, 67, 0.3), 0px 1px 3px 1px rgba(60, 64, 67, 0.15);\n",
              "      fill: #174EA6;\n",
              "    }\n",
              "\n",
              "    [theme=dark] .colab-df-convert {\n",
              "      background-color: #3B4455;\n",
              "      fill: #D2E3FC;\n",
              "    }\n",
              "\n",
              "    [theme=dark] .colab-df-convert:hover {\n",
              "      background-color: #434B5C;\n",
              "      box-shadow: 0px 1px 3px 1px rgba(0, 0, 0, 0.15);\n",
              "      filter: drop-shadow(0px 1px 2px rgba(0, 0, 0, 0.3));\n",
              "      fill: #FFFFFF;\n",
              "    }\n",
              "  </style>\n",
              "\n",
              "      <script>\n",
              "        const buttonEl =\n",
              "          document.querySelector('#df-0598a86c-f4a1-43cf-b55d-6cf5fb486ea1 button.colab-df-convert');\n",
              "        buttonEl.style.display =\n",
              "          google.colab.kernel.accessAllowed ? 'block' : 'none';\n",
              "\n",
              "        async function convertToInteractive(key) {\n",
              "          const element = document.querySelector('#df-0598a86c-f4a1-43cf-b55d-6cf5fb486ea1');\n",
              "          const dataTable =\n",
              "            await google.colab.kernel.invokeFunction('convertToInteractive',\n",
              "                                                     [key], {});\n",
              "          if (!dataTable) return;\n",
              "\n",
              "          const docLinkHtml = 'Like what you see? Visit the ' +\n",
              "            '<a target=\"_blank\" href=https://colab.research.google.com/notebooks/data_table.ipynb>data table notebook</a>'\n",
              "            + ' to learn more about interactive tables.';\n",
              "          element.innerHTML = '';\n",
              "          dataTable['output_type'] = 'display_data';\n",
              "          await google.colab.output.renderOutput(dataTable, element);\n",
              "          const docLink = document.createElement('div');\n",
              "          docLink.innerHTML = docLinkHtml;\n",
              "          element.appendChild(docLink);\n",
              "        }\n",
              "      </script>\n",
              "    </div>\n",
              "  </div>\n",
              "  "
            ]
          },
          "metadata": {},
          "execution_count": 124
        }
      ]
    },
    {
      "cell_type": "markdown",
      "source": [
        "Описательная статистика"
      ],
      "metadata": {
        "id": "bw82MyY-Qmrp"
      }
    },
    {
      "cell_type": "code",
      "source": [
        "df.describe()"
      ],
      "metadata": {
        "colab": {
          "base_uri": "https://localhost:8080/",
          "height": 297
        },
        "id": "a_PPxZ8gPeu8",
        "outputId": "9d51e31d-3348-4af5-d428-a38039d6a8c7"
      },
      "execution_count": null,
      "outputs": [
        {
          "output_type": "execute_result",
          "data": {
            "text/plain": [
              "          banner_1     banner_2\n",
              "count  1000.000000  1000.000000\n",
              "mean      0.037000     0.053000\n",
              "std       0.188856     0.224146\n",
              "min       0.000000     0.000000\n",
              "25%       0.000000     0.000000\n",
              "50%       0.000000     0.000000\n",
              "75%       0.000000     0.000000\n",
              "max       1.000000     1.000000"
            ],
            "text/html": [
              "\n",
              "  <div id=\"df-ed3ec7dc-a069-4150-aa24-c0f61e0240f9\">\n",
              "    <div class=\"colab-df-container\">\n",
              "      <div>\n",
              "<style scoped>\n",
              "    .dataframe tbody tr th:only-of-type {\n",
              "        vertical-align: middle;\n",
              "    }\n",
              "\n",
              "    .dataframe tbody tr th {\n",
              "        vertical-align: top;\n",
              "    }\n",
              "\n",
              "    .dataframe thead th {\n",
              "        text-align: right;\n",
              "    }\n",
              "</style>\n",
              "<table border=\"1\" class=\"dataframe\">\n",
              "  <thead>\n",
              "    <tr style=\"text-align: right;\">\n",
              "      <th></th>\n",
              "      <th>banner_1</th>\n",
              "      <th>banner_2</th>\n",
              "    </tr>\n",
              "  </thead>\n",
              "  <tbody>\n",
              "    <tr>\n",
              "      <th>count</th>\n",
              "      <td>1000.000000</td>\n",
              "      <td>1000.000000</td>\n",
              "    </tr>\n",
              "    <tr>\n",
              "      <th>mean</th>\n",
              "      <td>0.037000</td>\n",
              "      <td>0.053000</td>\n",
              "    </tr>\n",
              "    <tr>\n",
              "      <th>std</th>\n",
              "      <td>0.188856</td>\n",
              "      <td>0.224146</td>\n",
              "    </tr>\n",
              "    <tr>\n",
              "      <th>min</th>\n",
              "      <td>0.000000</td>\n",
              "      <td>0.000000</td>\n",
              "    </tr>\n",
              "    <tr>\n",
              "      <th>25%</th>\n",
              "      <td>0.000000</td>\n",
              "      <td>0.000000</td>\n",
              "    </tr>\n",
              "    <tr>\n",
              "      <th>50%</th>\n",
              "      <td>0.000000</td>\n",
              "      <td>0.000000</td>\n",
              "    </tr>\n",
              "    <tr>\n",
              "      <th>75%</th>\n",
              "      <td>0.000000</td>\n",
              "      <td>0.000000</td>\n",
              "    </tr>\n",
              "    <tr>\n",
              "      <th>max</th>\n",
              "      <td>1.000000</td>\n",
              "      <td>1.000000</td>\n",
              "    </tr>\n",
              "  </tbody>\n",
              "</table>\n",
              "</div>\n",
              "      <button class=\"colab-df-convert\" onclick=\"convertToInteractive('df-ed3ec7dc-a069-4150-aa24-c0f61e0240f9')\"\n",
              "              title=\"Convert this dataframe to an interactive table.\"\n",
              "              style=\"display:none;\">\n",
              "        \n",
              "  <svg xmlns=\"http://www.w3.org/2000/svg\" height=\"24px\"viewBox=\"0 0 24 24\"\n",
              "       width=\"24px\">\n",
              "    <path d=\"M0 0h24v24H0V0z\" fill=\"none\"/>\n",
              "    <path d=\"M18.56 5.44l.94 2.06.94-2.06 2.06-.94-2.06-.94-.94-2.06-.94 2.06-2.06.94zm-11 1L8.5 8.5l.94-2.06 2.06-.94-2.06-.94L8.5 2.5l-.94 2.06-2.06.94zm10 10l.94 2.06.94-2.06 2.06-.94-2.06-.94-.94-2.06-.94 2.06-2.06.94z\"/><path d=\"M17.41 7.96l-1.37-1.37c-.4-.4-.92-.59-1.43-.59-.52 0-1.04.2-1.43.59L10.3 9.45l-7.72 7.72c-.78.78-.78 2.05 0 2.83L4 21.41c.39.39.9.59 1.41.59.51 0 1.02-.2 1.41-.59l7.78-7.78 2.81-2.81c.8-.78.8-2.07 0-2.86zM5.41 20L4 18.59l7.72-7.72 1.47 1.35L5.41 20z\"/>\n",
              "  </svg>\n",
              "      </button>\n",
              "      \n",
              "  <style>\n",
              "    .colab-df-container {\n",
              "      display:flex;\n",
              "      flex-wrap:wrap;\n",
              "      gap: 12px;\n",
              "    }\n",
              "\n",
              "    .colab-df-convert {\n",
              "      background-color: #E8F0FE;\n",
              "      border: none;\n",
              "      border-radius: 50%;\n",
              "      cursor: pointer;\n",
              "      display: none;\n",
              "      fill: #1967D2;\n",
              "      height: 32px;\n",
              "      padding: 0 0 0 0;\n",
              "      width: 32px;\n",
              "    }\n",
              "\n",
              "    .colab-df-convert:hover {\n",
              "      background-color: #E2EBFA;\n",
              "      box-shadow: 0px 1px 2px rgba(60, 64, 67, 0.3), 0px 1px 3px 1px rgba(60, 64, 67, 0.15);\n",
              "      fill: #174EA6;\n",
              "    }\n",
              "\n",
              "    [theme=dark] .colab-df-convert {\n",
              "      background-color: #3B4455;\n",
              "      fill: #D2E3FC;\n",
              "    }\n",
              "\n",
              "    [theme=dark] .colab-df-convert:hover {\n",
              "      background-color: #434B5C;\n",
              "      box-shadow: 0px 1px 3px 1px rgba(0, 0, 0, 0.15);\n",
              "      filter: drop-shadow(0px 1px 2px rgba(0, 0, 0, 0.3));\n",
              "      fill: #FFFFFF;\n",
              "    }\n",
              "  </style>\n",
              "\n",
              "      <script>\n",
              "        const buttonEl =\n",
              "          document.querySelector('#df-ed3ec7dc-a069-4150-aa24-c0f61e0240f9 button.colab-df-convert');\n",
              "        buttonEl.style.display =\n",
              "          google.colab.kernel.accessAllowed ? 'block' : 'none';\n",
              "\n",
              "        async function convertToInteractive(key) {\n",
              "          const element = document.querySelector('#df-ed3ec7dc-a069-4150-aa24-c0f61e0240f9');\n",
              "          const dataTable =\n",
              "            await google.colab.kernel.invokeFunction('convertToInteractive',\n",
              "                                                     [key], {});\n",
              "          if (!dataTable) return;\n",
              "\n",
              "          const docLinkHtml = 'Like what you see? Visit the ' +\n",
              "            '<a target=\"_blank\" href=https://colab.research.google.com/notebooks/data_table.ipynb>data table notebook</a>'\n",
              "            + ' to learn more about interactive tables.';\n",
              "          element.innerHTML = '';\n",
              "          dataTable['output_type'] = 'display_data';\n",
              "          await google.colab.output.renderOutput(dataTable, element);\n",
              "          const docLink = document.createElement('div');\n",
              "          docLink.innerHTML = docLinkHtml;\n",
              "          element.appendChild(docLink);\n",
              "        }\n",
              "      </script>\n",
              "    </div>\n",
              "  </div>\n",
              "  "
            ]
          },
          "metadata": {},
          "execution_count": 125
        }
      ]
    },
    {
      "cell_type": "markdown",
      "source": [
        "Использование метода оценки вероятности совокупности по вероятности выборки, когда вероятность следует биномиальному распределению.\n",
        "\n",
        "Итак, мы получаем диапазон вероятностей с ожидаемым доверительным интервалом."
      ],
      "metadata": {
        "id": "A47dnOiNRNMH"
      }
    },
    {
      "cell_type": "markdown",
      "source": [
        "source: https://github.com/Filareth2015/DA_and_ML_Python_Basics"
      ],
      "metadata": {
        "id": "SvN1VrgphyQa"
      }
    },
    {
      "cell_type": "code",
      "source": [
        "import scipy\n",
        "from statsmodels.stats.weightstats import *\n",
        "from statsmodels.stats.proportion import proportion_confint\n",
        "\n",
        "conf_interval_banner_1 = proportion_confint(sum(df.banner_1), \n",
        "                                            df.shape[0],\n",
        "                                            method = 'wilson')\n",
        "conf_interval_banner_2 = proportion_confint(sum(df.banner_2), \n",
        "                                            df.shape[0],\n",
        "                                            method = 'wilson')"
      ],
      "metadata": {
        "id": "UFOl7P3IPesX"
      },
      "execution_count": null,
      "outputs": []
    },
    {
      "cell_type": "markdown",
      "source": [
        "Интервальные оценки долей: "
      ],
      "metadata": {
        "id": "SewuHGR9R71o"
      }
    },
    {
      "cell_type": "code",
      "source": [
        "print ('interval for the first banner 1 [%f, %f]' % conf_interval_banner_1)\n",
        "print ('interval for the second banner 2 [%f, %f]' % conf_interval_banner_2)"
      ],
      "metadata": {
        "colab": {
          "base_uri": "https://localhost:8080/"
        },
        "id": "NntANEA-Pepw",
        "outputId": "a858d988-db26-41ac-8366-aac799c7906f"
      },
      "execution_count": null,
      "outputs": [
        {
          "output_type": "stream",
          "name": "stdout",
          "text": [
            "interval for the first banner 1 [0.026961, 0.050582]\n",
            "interval for the second banner 2 [0.040747, 0.068675]\n"
          ]
        }
      ]
    },
    {
      "cell_type": "markdown",
      "source": [
        "###Сравнение"
      ],
      "metadata": {
        "id": "uY_I2aOfWYkS"
      }
    },
    {
      "cell_type": "markdown",
      "source": [
        "Независимые выборки: CI для разности долей"
      ],
      "metadata": {
        "id": "msZLInIAR3-R"
      }
    },
    {
      "cell_type": "code",
      "source": [
        "def proportions_confint_diff_ind(sample1, sample2, alpha = 0.05):    \n",
        "    z = scipy.stats.norm.ppf(1 - alpha / 2.)   \n",
        "    p1 = float(sum(sample1)) / len(sample1)\n",
        "    p2 = float(sum(sample2)) / len(sample2)\n",
        "    \n",
        "    left_boundary = (p1 - p2) - z * np.sqrt(p1 * (1 - p1)/ len(sample1) + p2 * (1 - p2)/ len(sample2))\n",
        "    right_boundary = (p1 - p2) + z * np.sqrt(p1 * (1 - p1)/ len(sample1) + p2 * (1 - p2)/ len(sample2))\n",
        "    \n",
        "    return (left_boundary, right_boundary)"
      ],
      "metadata": {
        "id": "Ek-azGitR4ZO"
      },
      "execution_count": null,
      "outputs": []
    },
    {
      "cell_type": "code",
      "source": [
        "print (\"CI: [%f, %f]\" % proportions_confint_diff_ind(df.banner_1, df.banner_2))"
      ],
      "metadata": {
        "colab": {
          "base_uri": "https://localhost:8080/"
        },
        "id": "MQH4USlNUInT",
        "outputId": "70274de7-214c-4a8f-f717-a95169296bec"
      },
      "execution_count": null,
      "outputs": [
        {
          "output_type": "stream",
          "name": "stdout",
          "text": [
            "CI: [-0.034157, 0.002157]\n"
          ]
        }
      ]
    },
    {
      "cell_type": "markdown",
      "source": [
        "Связанные выборки: CI для разности долей"
      ],
      "metadata": {
        "id": "ubQ2bMyVUV3c"
      }
    },
    {
      "cell_type": "code",
      "source": [
        "# got an ERROR: https://stackoverflow.com/questions/31011631/python-2-3-object-of-type-zip-has-no-len\n",
        "def proportions_confint_diff_rel(sample1, sample2, alpha = 0.05):\n",
        "    z = scipy.stats.norm.ppf(1 - alpha / 2.)\n",
        "    sample = list(zip(sample1, sample2))\n",
        "    n = len(sample)\n",
        "        \n",
        "    f = sum([1 if (x[0] == 1 and x[1] == 0) else 0 for x in sample])\n",
        "    g = sum([1 if (x[0] == 0 and x[1] == 1) else 0 for x in sample])\n",
        "    \n",
        "    left_boundary = float(f - g) / n  - z * np.sqrt(float((f + g)) / n**2 - float((f - g)**2) / n**3)\n",
        "    right_boundary = float(f - g) / n  + z * np.sqrt(float((f + g)) / n**2 - float((f - g)**2) / n**3)\n",
        "    return (left_boundary, right_boundary)"
      ],
      "metadata": {
        "id": "_A9HTIIYUWRR"
      },
      "execution_count": null,
      "outputs": []
    },
    {
      "cell_type": "code",
      "source": [
        "print (\"CI: [%f, %f]\" % proportions_confint_diff_rel(df.banner_1, df.banner_2))"
      ],
      "metadata": {
        "colab": {
          "base_uri": "https://localhost:8080/"
        },
        "id": "MebSO1qHUdJ2",
        "outputId": "4b00d6bd-f317-450b-f336-05c17b32ec84"
      },
      "execution_count": null,
      "outputs": [
        {
          "output_type": "stream",
          "name": "stdout",
          "text": [
            "CI: [-0.026689, -0.005311]\n"
          ]
        }
      ]
    },
    {
      "cell_type": "markdown",
      "source": [
        "Вывод: оба баннера выбирают одинаково часто"
      ],
      "metadata": {
        "id": "OqUTlrwlV8Zz"
      }
    },
    {
      "cell_type": "markdown",
      "source": [
        "Также можем провести two-tailed hypothesis testing"
      ],
      "metadata": {
        "id": "5JPgfik3WbZj"
      }
    },
    {
      "cell_type": "markdown",
      "source": [
        "$H_0$ (нулевая гипотеза): $ \\mu_1 = \\mu_2$, тогда оба баннера одинаково хороши\n",
        "\n",
        "$H_1$ (альтернативная гипотеза): $ \\mu_1 ≠ \\mu_2$, тогда оба баннера не одинаковы\n",
        "\n",
        "P.S. ошибка 1-го рода: $\\alpha$ = 0.05 (уровень значимости) "
      ],
      "metadata": {
        "id": "MWJSVp_Qd_Zy"
      }
    },
    {
      "cell_type": "code",
      "source": [
        "# T-test for the means of two independent samples\n",
        "p_value = stats.ttest_ind(df.banner_1, df.banner_2)\n",
        "print(p_value.pvalue)"
      ],
      "metadata": {
        "colab": {
          "base_uri": "https://localhost:8080/"
        },
        "id": "rPQDgiK2dyX5",
        "outputId": "c1167439-1fb5-4ec3-d55d-5a474d48291e"
      },
      "execution_count": null,
      "outputs": [
        {
          "output_type": "stream",
          "name": "stdout",
          "text": [
            "0.0844572354225637\n"
          ]
        }
      ]
    },
    {
      "cell_type": "code",
      "source": [
        "if p_value.pvalue < alpha:\n",
        "    print(\"Вердикт: Reject H_0\")\n",
        "else:\n",
        "    print(\"Вердикт: Do not reject H_0\") "
      ],
      "metadata": {
        "colab": {
          "base_uri": "https://localhost:8080/"
        },
        "id": "hR1dx4an9E8d",
        "outputId": "01623243-9d14-4081-d67a-dac191d55a6f"
      },
      "execution_count": null,
      "outputs": [
        {
          "output_type": "stream",
          "name": "stdout",
          "text": [
            "Вердикт: Do not reject H_0\n"
          ]
        }
      ]
    },
    {
      "cell_type": "markdown",
      "source": [
        "Поскольку мы не отвергаем нулевую гипотезу $H_0$, получив $\\mu$ = 0.08, что говорит о том, что $ \\mu_1 = \\mu_2$. Поэтому, мы видим, что среднее значение лайков по обеим баннерам одинаково, значит оба баннера одинаково хороши."
      ],
      "metadata": {
        "id": "TgSJwoqtgTxD"
      }
    },
    {
      "cell_type": "markdown",
      "source": [
        "##3. Немного АВ-тестов\n",
        "## Игра Cookie Cat"
      ],
      "metadata": {
        "id": "PCa-hOjWg7-w"
      }
    },
    {
      "cell_type": "markdown",
      "source": [
        "У создателей появляется важный вопрос: **где лучше всего ставить ворота?**\n",
        "Первоначально первые ворота были размещены на уровне 30. Однако есть гипотеза, что лучше переместить их на уровень 40. В этом задании вам предлагается проанализировать результаты AB-теста, в котором создатели переместили первые ворота в Cookie Cats с 30 уровня на уровень 40. "
      ],
      "metadata": {
        "id": "TECf71FmhNfA"
      }
    },
    {
      "cell_type": "markdown",
      "source": [
        "**Данные получены от 90 189 игроков, которые установили игру во время проведения AB-теста. Переменные:**\n",
        "\n",
        "* `userid` - уникальный номер, идентифицирующий каждого игрока.\n",
        "\n",
        "* `version` - был ли игрок помещен в контрольную группу (gate_30 - ворота на уровне 30) или в тестовую группу (gate_40 - ворота на уровне 40).\n",
        "\n",
        "* `sum_gamerounds` - количество игровых раундов, сыгранных игроком в течение первой недели после установки\n",
        "* `retention_1` - вернулся ли игрок в игру через 1 день после установки\n",
        "* `retention_7` - вернулся ли игрок в игру через 7 дней после установки\n",
        "\n",
        "Когда игрок устанавливал игру, ему случайным образом назначали `gate_30` или `gate_40`."
      ],
      "metadata": {
        "id": "6KhptsHhhOfG"
      }
    },
    {
      "cell_type": "code",
      "source": [
        "df = pd.read_csv(\"https://raw.githubusercontent.com/V-Marco/public_intro_to_DS_mba_hse/main/HW/HW3/cookie_cats.csv\")\n",
        "df"
      ],
      "metadata": {
        "colab": {
          "base_uri": "https://localhost:8080/",
          "height": 419
        },
        "id": "Y7aU48BngS4K",
        "outputId": "38248158-30c0-4e1a-cb54-a93e517a22cd"
      },
      "execution_count": null,
      "outputs": [
        {
          "output_type": "execute_result",
          "data": {
            "text/plain": [
              "        userid  version  sum_gamerounds  retention_1  retention_7\n",
              "0          116  gate_30               3        False        False\n",
              "1          337  gate_30              38         True        False\n",
              "2          377  gate_40             165         True        False\n",
              "3          483  gate_40               1        False        False\n",
              "4          488  gate_40             179         True         True\n",
              "...        ...      ...             ...          ...          ...\n",
              "90184  9999441  gate_40              97         True        False\n",
              "90185  9999479  gate_40              30        False        False\n",
              "90186  9999710  gate_30              28         True        False\n",
              "90187  9999768  gate_40              51         True        False\n",
              "90188  9999861  gate_40              16        False        False\n",
              "\n",
              "[90189 rows x 5 columns]"
            ],
            "text/html": [
              "\n",
              "  <div id=\"df-873070c3-21dd-4426-a6d5-82087e127f08\">\n",
              "    <div class=\"colab-df-container\">\n",
              "      <div>\n",
              "<style scoped>\n",
              "    .dataframe tbody tr th:only-of-type {\n",
              "        vertical-align: middle;\n",
              "    }\n",
              "\n",
              "    .dataframe tbody tr th {\n",
              "        vertical-align: top;\n",
              "    }\n",
              "\n",
              "    .dataframe thead th {\n",
              "        text-align: right;\n",
              "    }\n",
              "</style>\n",
              "<table border=\"1\" class=\"dataframe\">\n",
              "  <thead>\n",
              "    <tr style=\"text-align: right;\">\n",
              "      <th></th>\n",
              "      <th>userid</th>\n",
              "      <th>version</th>\n",
              "      <th>sum_gamerounds</th>\n",
              "      <th>retention_1</th>\n",
              "      <th>retention_7</th>\n",
              "    </tr>\n",
              "  </thead>\n",
              "  <tbody>\n",
              "    <tr>\n",
              "      <th>0</th>\n",
              "      <td>116</td>\n",
              "      <td>gate_30</td>\n",
              "      <td>3</td>\n",
              "      <td>False</td>\n",
              "      <td>False</td>\n",
              "    </tr>\n",
              "    <tr>\n",
              "      <th>1</th>\n",
              "      <td>337</td>\n",
              "      <td>gate_30</td>\n",
              "      <td>38</td>\n",
              "      <td>True</td>\n",
              "      <td>False</td>\n",
              "    </tr>\n",
              "    <tr>\n",
              "      <th>2</th>\n",
              "      <td>377</td>\n",
              "      <td>gate_40</td>\n",
              "      <td>165</td>\n",
              "      <td>True</td>\n",
              "      <td>False</td>\n",
              "    </tr>\n",
              "    <tr>\n",
              "      <th>3</th>\n",
              "      <td>483</td>\n",
              "      <td>gate_40</td>\n",
              "      <td>1</td>\n",
              "      <td>False</td>\n",
              "      <td>False</td>\n",
              "    </tr>\n",
              "    <tr>\n",
              "      <th>4</th>\n",
              "      <td>488</td>\n",
              "      <td>gate_40</td>\n",
              "      <td>179</td>\n",
              "      <td>True</td>\n",
              "      <td>True</td>\n",
              "    </tr>\n",
              "    <tr>\n",
              "      <th>...</th>\n",
              "      <td>...</td>\n",
              "      <td>...</td>\n",
              "      <td>...</td>\n",
              "      <td>...</td>\n",
              "      <td>...</td>\n",
              "    </tr>\n",
              "    <tr>\n",
              "      <th>90184</th>\n",
              "      <td>9999441</td>\n",
              "      <td>gate_40</td>\n",
              "      <td>97</td>\n",
              "      <td>True</td>\n",
              "      <td>False</td>\n",
              "    </tr>\n",
              "    <tr>\n",
              "      <th>90185</th>\n",
              "      <td>9999479</td>\n",
              "      <td>gate_40</td>\n",
              "      <td>30</td>\n",
              "      <td>False</td>\n",
              "      <td>False</td>\n",
              "    </tr>\n",
              "    <tr>\n",
              "      <th>90186</th>\n",
              "      <td>9999710</td>\n",
              "      <td>gate_30</td>\n",
              "      <td>28</td>\n",
              "      <td>True</td>\n",
              "      <td>False</td>\n",
              "    </tr>\n",
              "    <tr>\n",
              "      <th>90187</th>\n",
              "      <td>9999768</td>\n",
              "      <td>gate_40</td>\n",
              "      <td>51</td>\n",
              "      <td>True</td>\n",
              "      <td>False</td>\n",
              "    </tr>\n",
              "    <tr>\n",
              "      <th>90188</th>\n",
              "      <td>9999861</td>\n",
              "      <td>gate_40</td>\n",
              "      <td>16</td>\n",
              "      <td>False</td>\n",
              "      <td>False</td>\n",
              "    </tr>\n",
              "  </tbody>\n",
              "</table>\n",
              "<p>90189 rows × 5 columns</p>\n",
              "</div>\n",
              "      <button class=\"colab-df-convert\" onclick=\"convertToInteractive('df-873070c3-21dd-4426-a6d5-82087e127f08')\"\n",
              "              title=\"Convert this dataframe to an interactive table.\"\n",
              "              style=\"display:none;\">\n",
              "        \n",
              "  <svg xmlns=\"http://www.w3.org/2000/svg\" height=\"24px\"viewBox=\"0 0 24 24\"\n",
              "       width=\"24px\">\n",
              "    <path d=\"M0 0h24v24H0V0z\" fill=\"none\"/>\n",
              "    <path d=\"M18.56 5.44l.94 2.06.94-2.06 2.06-.94-2.06-.94-.94-2.06-.94 2.06-2.06.94zm-11 1L8.5 8.5l.94-2.06 2.06-.94-2.06-.94L8.5 2.5l-.94 2.06-2.06.94zm10 10l.94 2.06.94-2.06 2.06-.94-2.06-.94-.94-2.06-.94 2.06-2.06.94z\"/><path d=\"M17.41 7.96l-1.37-1.37c-.4-.4-.92-.59-1.43-.59-.52 0-1.04.2-1.43.59L10.3 9.45l-7.72 7.72c-.78.78-.78 2.05 0 2.83L4 21.41c.39.39.9.59 1.41.59.51 0 1.02-.2 1.41-.59l7.78-7.78 2.81-2.81c.8-.78.8-2.07 0-2.86zM5.41 20L4 18.59l7.72-7.72 1.47 1.35L5.41 20z\"/>\n",
              "  </svg>\n",
              "      </button>\n",
              "      \n",
              "  <style>\n",
              "    .colab-df-container {\n",
              "      display:flex;\n",
              "      flex-wrap:wrap;\n",
              "      gap: 12px;\n",
              "    }\n",
              "\n",
              "    .colab-df-convert {\n",
              "      background-color: #E8F0FE;\n",
              "      border: none;\n",
              "      border-radius: 50%;\n",
              "      cursor: pointer;\n",
              "      display: none;\n",
              "      fill: #1967D2;\n",
              "      height: 32px;\n",
              "      padding: 0 0 0 0;\n",
              "      width: 32px;\n",
              "    }\n",
              "\n",
              "    .colab-df-convert:hover {\n",
              "      background-color: #E2EBFA;\n",
              "      box-shadow: 0px 1px 2px rgba(60, 64, 67, 0.3), 0px 1px 3px 1px rgba(60, 64, 67, 0.15);\n",
              "      fill: #174EA6;\n",
              "    }\n",
              "\n",
              "    [theme=dark] .colab-df-convert {\n",
              "      background-color: #3B4455;\n",
              "      fill: #D2E3FC;\n",
              "    }\n",
              "\n",
              "    [theme=dark] .colab-df-convert:hover {\n",
              "      background-color: #434B5C;\n",
              "      box-shadow: 0px 1px 3px 1px rgba(0, 0, 0, 0.15);\n",
              "      filter: drop-shadow(0px 1px 2px rgba(0, 0, 0, 0.3));\n",
              "      fill: #FFFFFF;\n",
              "    }\n",
              "  </style>\n",
              "\n",
              "      <script>\n",
              "        const buttonEl =\n",
              "          document.querySelector('#df-873070c3-21dd-4426-a6d5-82087e127f08 button.colab-df-convert');\n",
              "        buttonEl.style.display =\n",
              "          google.colab.kernel.accessAllowed ? 'block' : 'none';\n",
              "\n",
              "        async function convertToInteractive(key) {\n",
              "          const element = document.querySelector('#df-873070c3-21dd-4426-a6d5-82087e127f08');\n",
              "          const dataTable =\n",
              "            await google.colab.kernel.invokeFunction('convertToInteractive',\n",
              "                                                     [key], {});\n",
              "          if (!dataTable) return;\n",
              "\n",
              "          const docLinkHtml = 'Like what you see? Visit the ' +\n",
              "            '<a target=\"_blank\" href=https://colab.research.google.com/notebooks/data_table.ipynb>data table notebook</a>'\n",
              "            + ' to learn more about interactive tables.';\n",
              "          element.innerHTML = '';\n",
              "          dataTable['output_type'] = 'display_data';\n",
              "          await google.colab.output.renderOutput(dataTable, element);\n",
              "          const docLink = document.createElement('div');\n",
              "          docLink.innerHTML = docLinkHtml;\n",
              "          element.appendChild(docLink);\n",
              "        }\n",
              "      </script>\n",
              "    </div>\n",
              "  </div>\n",
              "  "
            ]
          },
          "metadata": {},
          "execution_count": 134
        }
      ]
    },
    {
      "cell_type": "code",
      "source": [
        "df.info()"
      ],
      "metadata": {
        "colab": {
          "base_uri": "https://localhost:8080/"
        },
        "id": "OSE51L6phjPQ",
        "outputId": "2f90bd5e-8343-4a83-b7f5-5be4de913e34"
      },
      "execution_count": null,
      "outputs": [
        {
          "output_type": "stream",
          "name": "stdout",
          "text": [
            "<class 'pandas.core.frame.DataFrame'>\n",
            "RangeIndex: 90189 entries, 0 to 90188\n",
            "Data columns (total 5 columns):\n",
            " #   Column          Non-Null Count  Dtype \n",
            "---  ------          --------------  ----- \n",
            " 0   userid          90189 non-null  int64 \n",
            " 1   version         90189 non-null  object\n",
            " 2   sum_gamerounds  90189 non-null  int64 \n",
            " 3   retention_1     90189 non-null  bool  \n",
            " 4   retention_7     90189 non-null  bool  \n",
            "dtypes: bool(2), int64(2), object(1)\n",
            "memory usage: 2.2+ MB\n"
          ]
        }
      ]
    },
    {
      "cell_type": "code",
      "source": [
        "# кол-во игроков в каждой AB группе\n",
        "df.groupby('version')['userid'].count()"
      ],
      "metadata": {
        "colab": {
          "base_uri": "https://localhost:8080/"
        },
        "id": "9gRoBDGzhkk5",
        "outputId": "779334b7-910f-4596-9646-db2dba7bc9e7"
      },
      "execution_count": null,
      "outputs": [
        {
          "output_type": "execute_result",
          "data": {
            "text/plain": [
              "version\n",
              "gate_30    44700\n",
              "gate_40    45489\n",
              "Name: userid, dtype: int64"
            ]
          },
          "metadata": {},
          "execution_count": 136
        }
      ]
    },
    {
      "cell_type": "markdown",
      "source": [
        "видно, что кол-во игроков в каждой группе практически одинаковое, что очень хорошо"
      ],
      "metadata": {
        "id": "3PH5hbiDiWWw"
      }
    },
    {
      "cell_type": "markdown",
      "source": [
        "### Вопрос 1: есть ли зависимость между возвращаемостью игроков и расположением ворот?"
      ],
      "metadata": {
        "id": "5iO-JXIakzJ9"
      }
    },
    {
      "cell_type": "code",
      "source": [
        "%matplotlib inline\n",
        "\n",
        "# Counting the number of players for each number of game rounds \n",
        "plot_df = df.groupby('sum_gamerounds')['userid'].count()\n",
        "\n",
        "# распределение игроков от 0 до 100 раундов\n",
        "ax = plot_df.head(n = 100).plot(x = \"sum_gamerounds\", y = \"userid\")\n",
        "ax.set_xlabel(\"Game Rounds\")\n",
        "ax.set_ylabel(\"User Count\")"
      ],
      "metadata": {
        "colab": {
          "base_uri": "https://localhost:8080/",
          "height": 296
        },
        "id": "maXZaOhlhkey",
        "outputId": "df6365f1-749a-4f87-b675-52bc51e90c2c"
      },
      "execution_count": null,
      "outputs": [
        {
          "output_type": "execute_result",
          "data": {
            "text/plain": [
              "Text(0, 0.5, 'User Count')"
            ]
          },
          "metadata": {},
          "execution_count": 137
        },
        {
          "output_type": "display_data",
          "data": {
            "text/plain": [
              "<Figure size 432x288 with 1 Axes>"
            ],
            "image/png": "[encoded data removed]"
          },
          "metadata": {
            "needs_background": "light"
          }
        }
      ]
    },
    {
      "cell_type": "markdown",
      "source": [
        "Видно, что некоторые игроки устанавливают игру, но потом никогда в неё не играют (имея 0 игровых раундов), некоторые игроки просто играют пару игровых раундов в первую неделю, а некоторые по-настоящему увлекаются и им интересна эта игра."
      ],
      "metadata": {
        "id": "Jzv4J0cGk7vF"
      }
    },
    {
      "cell_type": "markdown",
      "source": [
        "#### 1.1 Проверьте гипотезу для возвращения через день"
      ],
      "metadata": {
        "id": "KR2HoHJRjRQl"
      }
    },
    {
      "cell_type": "markdown",
      "source": [
        "Чем выше показатель удержания в течение 1 дня, тем легче удержать игроков и создать большую базу игроков."
      ],
      "metadata": {
        "id": "vduFE9jHxdHq"
      }
    },
    {
      "cell_type": "code",
      "source": [
        "# % игроков, кто вернулся после скачиваания игры \n",
        "df['retention_1'].sum() / df['retention_1'].count()"
      ],
      "metadata": {
        "colab": {
          "base_uri": "https://localhost:8080/"
        },
        "id": "bM_DgA-EhkY7",
        "outputId": "85d1ce60-a10e-4d76-baed-7c53659bd218"
      },
      "execution_count": null,
      "outputs": [
        {
          "output_type": "execute_result",
          "data": {
            "text/plain": [
              "0.4452095044850259"
            ]
          },
          "metadata": {},
          "execution_count": 138
        }
      ]
    },
    {
      "cell_type": "markdown",
      "source": [
        "Итак, чуть меньше половины игроков возвращаются через день после установки игры. Теперь, когда у нас есть эталон, давайте посмотрим, как отличается 1-дневное удержание между двумя группами AB."
      ],
      "metadata": {
        "id": "5eEZTxOHjR-0"
      }
    },
    {
      "cell_type": "code",
      "source": [
        "# 1-day retention для каждой AB-группы\n",
        "df.groupby('version')['retention_1'].sum() / df.groupby('version')['userid'].count()"
      ],
      "metadata": {
        "colab": {
          "base_uri": "https://localhost:8080/"
        },
        "id": "sPuh-eHrhkS7",
        "outputId": "ac1f7147-e5dc-40c4-9d14-c2aea0c1db0a"
      },
      "execution_count": null,
      "outputs": [
        {
          "output_type": "execute_result",
          "data": {
            "text/plain": [
              "version\n",
              "gate_30    0.448188\n",
              "gate_40    0.442283\n",
              "dtype: float64"
            ]
          },
          "metadata": {},
          "execution_count": 139
        }
      ]
    },
    {
      "cell_type": "markdown",
      "source": [
        "Похоже, что произошло небольшое снижение 1-дневного удержания, когда ворота были перемещены на уровень 40 (44,2%) по сравнению с контролем, когда они были на уровне 30 (44,8%). Это небольшое изменение, но даже небольшие изменения в удержании могут оказать большое влияние."
      ],
      "metadata": {
        "id": "0k0A1kU5yCix"
      }
    },
    {
      "cell_type": "markdown",
      "source": [
        "two-tailed hypothesis testing \n",
        "\n",
        "$H_0$ (нулевая гипотеза): $ \\mu_1 (control) = \\mu_2 (test)$, тогда возвращение игроков контрольной и тестовой группы не различается (через день)\n",
        "\n",
        "$H_1$ (альтернативная гипотеза): $ \\mu_1 (control) ≠ \\mu_2 (test)$, тогда возвращение игроков контрольной и тестовой группы различается (через день)\n",
        "\n",
        "P.S. ошибка 1-го рода: $\\alpha$ = 0.05 (уровень значимости) "
      ],
      "metadata": {
        "id": "eWCsu4_h6YdX"
      }
    },
    {
      "cell_type": "code",
      "source": [
        "df_g30 = df.query('version == \"gate_30\"')\n",
        "df_g40 = df.query('version == \"gate_40\"')"
      ],
      "metadata": {
        "id": "k6xWbaC05nE4"
      },
      "execution_count": null,
      "outputs": []
    },
    {
      "cell_type": "code",
      "source": [
        "# T-test for the means of two independent samples\n",
        "p_value = stats.ttest_ind(df_g30['retention_1'], df_g40['retention_1'])\n",
        "print(p_value.pvalue)"
      ],
      "metadata": {
        "colab": {
          "base_uri": "https://localhost:8080/"
        },
        "id": "Y1bVPd4u8CLA",
        "outputId": "559536b8-861c-443d-90c6-fc7e493d59b2"
      },
      "execution_count": null,
      "outputs": [
        {
          "output_type": "stream",
          "name": "stdout",
          "text": [
            "0.07441111525563184\n"
          ]
        }
      ]
    },
    {
      "cell_type": "code",
      "source": [
        "if p_value.pvalue < alpha:\n",
        "    print(\"Вердикт: Reject H_0\")\n",
        "else:\n",
        "    print(\"Вердикт: Do not reject H_0\") "
      ],
      "metadata": {
        "colab": {
          "base_uri": "https://localhost:8080/"
        },
        "id": "0cESwuu08ctp",
        "outputId": "fac60bd9-b25d-474f-8a71-f1faa073477d"
      },
      "execution_count": null,
      "outputs": [
        {
          "output_type": "stream",
          "name": "stdout",
          "text": [
            "Вердикт: Do not reject H_0\n"
          ]
        }
      ]
    },
    {
      "cell_type": "markdown",
      "source": [
        "Поскольку, нулевая гипотеза не отвергается, $ \\mu_1 (control) = \\mu_2 (test)$, тогда возвращение игроков контрольной и тестовой группы не различается (через день), что говорит об одинаковом среднем количестве возвратов за игру."
      ],
      "metadata": {
        "id": "-4oUjsPW8uIm"
      }
    },
    {
      "cell_type": "markdown",
      "source": [
        "##Extra outcome:"
      ],
      "metadata": {
        "id": "UAatDfuBlkWV"
      }
    },
    {
      "cell_type": "markdown",
      "source": [
        "Ниже представлены два распределения, которые представляют собой неопределенность бутстрапа в отношении того, каким может быть базовое 1-дневное удержание для двух AB-групп. Мы видим, что есть некоторые свидетельства разницы, хотя и небольшой."
      ],
      "metadata": {
        "id": "CM_ryH8OzCI7"
      }
    },
    {
      "cell_type": "code",
      "source": [
        "# создаем list с бутстрапированным средними для каждой AB-группы\n",
        "boot_1d = []\n",
        "for i in range(500):\n",
        "    boot_mean = df.sample(frac=1, replace=True).groupby('version')['retention_1'].mean()\n",
        "    boot_1d.append(boot_mean)\n",
        "    \n",
        "# переносим list в DataFrame\n",
        "boot_1d = pd.DataFrame(boot_1d)\n",
        "    \n",
        "# график bootstrap распределений\n",
        "boot_1d.plot(kind = 'kde')"
      ],
      "metadata": {
        "colab": {
          "base_uri": "https://localhost:8080/",
          "height": 282
        },
        "id": "szd2sLGvzVFL",
        "outputId": "4e634056-67a7-4a7e-c8b6-c452fb81e0e8"
      },
      "execution_count": null,
      "outputs": [
        {
          "output_type": "execute_result",
          "data": {
            "text/plain": [
              "<matplotlib.axes._subplots.AxesSubplot at 0x7f4dacd76f50>"
            ]
          },
          "metadata": {},
          "execution_count": 143
        },
        {
          "output_type": "display_data",
          "data": {
            "text/plain": [
              "<Figure size 432x288 with 1 Axes>"
            ],
            "image/png": "[encoded data removed]"
          },
          "metadata": {
            "needs_background": "light"
          }
        }
      ]
    },
    {
      "cell_type": "code",
      "source": [
        "# добавляем колонку с % разницей между двумя AB-группами\n",
        "boot_1d['diff'] = (boot_1d['gate_30'] - boot_1d['gate_40']) /  boot_1d['gate_40'] * 100\n",
        "\n",
        "# строим bootstrap % разницу\n",
        "ax = boot_1d['diff'].plot(kind = 'kde')\n",
        "ax.set_xlabel(\"% difference in means\")"
      ],
      "metadata": {
        "colab": {
          "base_uri": "https://localhost:8080/",
          "height": 296
        },
        "id": "JRWzNFznzdDd",
        "outputId": "514fb7a9-00ff-47fe-a261-efbaaf941a69"
      },
      "execution_count": null,
      "outputs": [
        {
          "output_type": "execute_result",
          "data": {
            "text/plain": [
              "Text(0.5, 0, '% difference in means')"
            ]
          },
          "metadata": {},
          "execution_count": 144
        },
        {
          "output_type": "display_data",
          "data": {
            "text/plain": [
              "<Figure size 432x288 with 1 Axes>"
            ],
            "image/png": "[encoded data removed]"
          },
          "metadata": {
            "needs_background": "light"
          }
        }
      ]
    },
    {
      "cell_type": "markdown",
      "source": [
        "Из графика выше можно заметить, что наиболее вероятная разница в процентах составляет около 1-2%, большая часть распределения выше 0% в пользу ворот на уровне 30."
      ],
      "metadata": {
        "id": "DK6Z63K00Wka"
      }
    },
    {
      "cell_type": "markdown",
      "source": [
        "Вероятность того, что разница превысит 0%?"
      ],
      "metadata": {
        "id": "1k7DTxNv0nHQ"
      }
    },
    {
      "cell_type": "code",
      "source": [
        "# probability that 1-day retention \n",
        "# is greater when the gate is at level 30.\n",
        "prob = (boot_1d['diff'] > 0).sum() / len(boot_1d)\n",
        "\n",
        "# probability\n",
        "'{:.1%}'.format(prob)"
      ],
      "metadata": {
        "colab": {
          "base_uri": "https://localhost:8080/",
          "height": 37
        },
        "id": "ow8_lEzezmDl",
        "outputId": "6d226731-72f6-4667-feac-51e76f83e520"
      },
      "execution_count": null,
      "outputs": [
        {
          "output_type": "execute_result",
          "data": {
            "text/plain": [
              "'96.6%'"
            ],
            "application/vnd.google.colaboratory.intrinsic+json": {
              "type": "string"
            }
          },
          "metadata": {},
          "execution_count": 145
        }
      ]
    },
    {
      "cell_type": "markdown",
      "source": [
        "Вероятность того, что разница превысит 1%?"
      ],
      "metadata": {
        "id": "QLeM9nwP5VqV"
      }
    },
    {
      "cell_type": "code",
      "source": [
        "# Calculating the probability that 1-day retention \n",
        "# is greater when the gate is at level 30.\n",
        "prob = (boot_1d['diff'] > 1).sum() / len(boot_1d)\n",
        "\n",
        "# Pretty printing the probability\n",
        "'{:.1%}'.format(prob)"
      ],
      "metadata": {
        "colab": {
          "base_uri": "https://localhost:8080/",
          "height": 37
        },
        "id": "FtsQLY-35QLK",
        "outputId": "5c69c5fb-65fd-4174-dad7-1ed7c048497c"
      },
      "execution_count": null,
      "outputs": [
        {
          "output_type": "execute_result",
          "data": {
            "text/plain": [
              "'69.8%'"
            ],
            "application/vnd.google.colaboratory.intrinsic+json": {
              "type": "string"
            }
          },
          "metadata": {},
          "execution_count": 146
        }
      ]
    },
    {
      "cell_type": "markdown",
      "source": [
        "Вероятность того, что разница превысит 2%?"
      ],
      "metadata": {
        "id": "MZW1vIfg5e2s"
      }
    },
    {
      "cell_type": "code",
      "source": [
        "# Calculating the probability that 1-day retention \n",
        "# is greater when the gate is at level 30.\n",
        "prob = (boot_1d['diff'] > 2).sum() / len(boot_1d)\n",
        "\n",
        "# Pretty printing the probability\n",
        "'{:.1%}'.format(prob)"
      ],
      "metadata": {
        "colab": {
          "base_uri": "https://localhost:8080/",
          "height": 37
        },
        "id": "lB4TZUNG5Zbs",
        "outputId": "4fa5780b-4236-4895-e7fc-56965bd6471e"
      },
      "execution_count": null,
      "outputs": [
        {
          "output_type": "execute_result",
          "data": {
            "text/plain": [
              "'23.6%'"
            ],
            "application/vnd.google.colaboratory.intrinsic+json": {
              "type": "string"
            }
          },
          "metadata": {},
          "execution_count": 147
        }
      ]
    },
    {
      "cell_type": "markdown",
      "source": [
        "#### 2.2 Проверьте гипотезу для возвращения через 7 дней"
      ],
      "metadata": {
        "id": "bK2wD7-3lGXJ"
      }
    },
    {
      "cell_type": "markdown",
      "source": [
        "Анализ бутстрапа показывает, что существует высокая вероятность того, что 1-дневное удержание лучше, когда ворота находятся на уровне 30. Однако, поскольку игроки играют в игру всего один день, вполне вероятно, что большинство игроков еще не достигли 30-го уровня. То есть многие игроки не будут затронуты вратами, даже если они уже достигли 30-го уровня."
      ],
      "metadata": {
        "id": "4g16Ff3t1KHV"
      }
    },
    {
      "cell_type": "markdown",
      "source": [
        "Вероятно, что после игры в течение недели еще больше игроков должны будут достичь 40-го уровня."
      ],
      "metadata": {
        "id": "VEV9WBc51aDA"
      }
    },
    {
      "cell_type": "code",
      "source": [
        "# 7-day retention для обеих AB-групп\n",
        "df.groupby('version')['retention_7'].sum() / df.groupby('version')['userid'].count()"
      ],
      "metadata": {
        "colab": {
          "base_uri": "https://localhost:8080/"
        },
        "id": "f_itGHoglHBr",
        "outputId": "9c20eba8-ec26-4b46-8a0f-22599c28f1d3"
      },
      "execution_count": null,
      "outputs": [
        {
          "output_type": "execute_result",
          "data": {
            "text/plain": [
              "version\n",
              "gate_30    0.190201\n",
              "gate_40    0.182000\n",
              "dtype: float64"
            ]
          },
          "metadata": {},
          "execution_count": 148
        }
      ]
    },
    {
      "cell_type": "markdown",
      "source": [
        "Видно, что 7-дневное удержание немного ниже (18.2%), когда ворота находятся на уровне 40, чем когда ворота находятся на уровне 30 (19.0%). Эта разница также больше, чем при 1-дневном удержании, вероятно, потому что больше игроков успели поразить первые ворота. Также общее 7-дневное удержание ниже, чем общее 1-дневное удержание. То есть, меньше людей играют в игру через неделю после установки, чем через день после установки."
      ],
      "metadata": {
        "id": "UQR78RvKwxWb"
      }
    },
    {
      "cell_type": "markdown",
      "source": [
        "two-tailed hypothesis testing \n",
        "\n",
        "$H_0$ (нулевая гипотеза): $ \\mu_1 (control) = \\mu_2 (test)$, тогда возвращение игроков контрольной и тестовой группы не различается (через неделю)\n",
        "\n",
        "$H_1$ (альтернативная гипотеза): $ \\mu_1 (control) ≠ \\mu_2 (test)$, тогда возвращение игроков контрольной и тестовой группы различается (через неделю)\n",
        "\n",
        "P.S. ошибка 1-го рода: $\\alpha$ = 0.05 (уровень значимости)"
      ],
      "metadata": {
        "id": "pKEDkGeR-TRo"
      }
    },
    {
      "cell_type": "code",
      "source": [
        "df_g30 = df.query('version == \"gate_30\"')\n",
        "df_g40 = df.query('version == \"gate_40\"')"
      ],
      "metadata": {
        "id": "oKsDQ02_-TsJ"
      },
      "execution_count": null,
      "outputs": []
    },
    {
      "cell_type": "code",
      "source": [
        "# T-test for the means of two independent samples\n",
        "p_value = stats.ttest_ind(df_g30['retention_7'], df_g40['retention_7'])\n",
        "print(p_value.pvalue)"
      ],
      "metadata": {
        "colab": {
          "base_uri": "https://localhost:8080/"
        },
        "id": "I_ZAo5rR-iFp",
        "outputId": "8152d0e2-31bd-4d9d-9e99-ed728ad9074a"
      },
      "execution_count": null,
      "outputs": [
        {
          "output_type": "stream",
          "name": "stdout",
          "text": [
            "0.0015540151201088365\n"
          ]
        }
      ]
    },
    {
      "cell_type": "code",
      "source": [
        "if p_value.pvalue < alpha:\n",
        "    print(\"Вердикт: Reject H_0\")\n",
        "else:\n",
        "    print(\"Вердикт: Do not reject H_0\")"
      ],
      "metadata": {
        "colab": {
          "base_uri": "https://localhost:8080/"
        },
        "id": "pKcSS0sJ-h71",
        "outputId": "7d85abe9-08a1-4774-9af2-d61cfa93f421"
      },
      "execution_count": null,
      "outputs": [
        {
          "output_type": "stream",
          "name": "stdout",
          "text": [
            "Вердикт: Reject H_0\n"
          ]
        }
      ]
    },
    {
      "cell_type": "markdown",
      "source": [
        "Здесь же ситуация зеркальная, поскольку нулевая гипотеза отвергается, $ \\mu_1 (control) ≠ \\mu_2 (test)$, тогда возвращение игроков контрольной и тестовой группы различается (через неделю), что говорит о разном среднем количестве возвратов за игру."
      ],
      "metadata": {
        "id": "cgA5CCaK-0N-"
      }
    },
    {
      "cell_type": "code",
      "source": [
        "# создаем list с бутстрапированным средними для каждой AB-группы\n",
        "boot_7d = []\n",
        "for i in range(500):\n",
        "    boot_mean = df.sample(frac=1, replace=True).groupby('version')['retention_7'].mean()\n",
        "    boot_7d.append(boot_mean)\n",
        "    \n",
        "# переносим list в DataFrame\n",
        "boot_7d = pd.DataFrame(boot_7d)\n",
        "\n",
        "# добавляем колонку с % разницей между двумя AB-группами\n",
        "boot_7d['diff'] = (boot_7d['gate_30'] - boot_7d['gate_40']) /  boot_7d['gate_30'] * 100\n",
        "\n",
        "# строим bootstrap % разницу\n",
        "ax = boot_7d['diff'].plot(kind = 'kde')\n",
        "ax.set_xlabel(\"% difference in means\")\n",
        "\n",
        "#  probability that 7-day retention is greater when the gate is at level 30\n",
        "prob = (boot_7d['diff'] > 0).sum() / len(boot_7d)\n",
        "\n",
        "# probability\n",
        "'{:.1%}'.format(prob)"
      ],
      "metadata": {
        "colab": {
          "base_uri": "https://localhost:8080/",
          "height": 299
        },
        "id": "lzdyokqFlKew",
        "outputId": "e2e01001-74ca-4ae7-c1f0-4045258fffb9"
      },
      "execution_count": null,
      "outputs": [
        {
          "output_type": "execute_result",
          "data": {
            "text/plain": [
              "'100.0%'"
            ],
            "application/vnd.google.colaboratory.intrinsic+json": {
              "type": "string"
            }
          },
          "metadata": {},
          "execution_count": 152
        },
        {
          "output_type": "display_data",
          "data": {
            "text/plain": [
              "<Figure size 432x288 with 1 Axes>"
            ],
            "image/png": "[encoded data removed]"
          },
          "metadata": {
            "needs_background": "light"
          }
        }
      ]
    },
    {
      "cell_type": "markdown",
      "source": [
        "Итак, бутстрап утверждает, что есть доказательства того, что 7-дневное удержание выше, когда ворота находятся на уровне 30, чем когда они находятся на уровне 40."
      ],
      "metadata": {
        "id": "lkx5AjPFjUsr"
      }
    },
    {
      "cell_type": "markdown",
      "source": [
        "Вывод: Если мы хотим сохранить удержание на высоком уровне — как 1-дневное, так и 7-дневное удержание — мы не должны перемещать ворота с уровня 30 на уровень 40.\n",
        "\n",
        "Заставляя игроков делать перерыв, когда они достигают ворот, они получают больше удовольствия от игры. Но когда ворота перемещаются на 40-й уровень, меньшему количеству игроков удается пройти достаточно далеко, и они с большей вероятностью выйдут из игры, потому что им это просто наскучило."
      ],
      "metadata": {
        "id": "dWiBVpml2jjs"
      }
    },
    {
      "cell_type": "markdown",
      "source": [
        "### Вопрос 2: Отличается ли среднее количество раундов в группах gate_40 и gate_30?"
      ],
      "metadata": {
        "id": "L1VtfmbTl8JQ"
      }
    },
    {
      "cell_type": "code",
      "source": [
        "# для начала проверим себя\n",
        "(df.groupby('version')['sum_gamerounds'].mean().round(3) * 100)"
      ],
      "metadata": {
        "colab": {
          "base_uri": "https://localhost:8080/"
        },
        "id": "l97rzPFQ4gBE",
        "outputId": "f326c77b-36db-4667-fb77-dde1820e3d17"
      },
      "execution_count": null,
      "outputs": [
        {
          "output_type": "execute_result",
          "data": {
            "text/plain": [
              "version\n",
              "gate_30    5245.6\n",
              "gate_40    5129.9\n",
              "Name: sum_gamerounds, dtype: float64"
            ]
          },
          "metadata": {},
          "execution_count": 153
        }
      ]
    },
    {
      "cell_type": "markdown",
      "source": [
        "Видно, что среднее количество раундов в группах gate_40 и gate_30 отличается примерно на 116"
      ],
      "metadata": {
        "id": "ZuKNepJ_4gmN"
      }
    },
    {
      "cell_type": "code",
      "source": [
        "p_value = stats.ttest_ind(df_g30['sum_gamerounds'], df_g40['sum_gamerounds'])\n",
        "print(p_value.pvalue)"
      ],
      "metadata": {
        "colab": {
          "base_uri": "https://localhost:8080/"
        },
        "id": "zCvuEvb3RlSk",
        "outputId": "42d92f51-0ed2-4ef9-daf2-9effd26cd798"
      },
      "execution_count": null,
      "outputs": [
        {
          "output_type": "stream",
          "name": "stdout",
          "text": [
            "0.37290868247405207\n"
          ]
        }
      ]
    },
    {
      "cell_type": "code",
      "source": [
        "if p_value.pvalue < alpha:\n",
        "    print(\"Вердикт: Reject H_0\")\n",
        "else:\n",
        "    print(\"Вердикт: Do not reject H_0\")"
      ],
      "metadata": {
        "colab": {
          "base_uri": "https://localhost:8080/"
        },
        "id": "iuqY3WnyRrMJ",
        "outputId": "df1e27c8-4c64-4cf5-ea85-10cffe1dba5b"
      },
      "execution_count": null,
      "outputs": [
        {
          "output_type": "stream",
          "name": "stdout",
          "text": [
            "Вердикт: Do not reject H_0\n"
          ]
        }
      ]
    },
    {
      "cell_type": "markdown",
      "source": [
        "### Вопрос 3: Отличается ли медианное количество раундов в группах gate_40 и gate_30?"
      ],
      "metadata": {
        "id": "R31mqIsw4hYU"
      }
    },
    {
      "cell_type": "code",
      "source": [
        "# для начала проверим себя\n",
        "(df.groupby('version')['sum_gamerounds'].median().round(3) * 100)"
      ],
      "metadata": {
        "colab": {
          "base_uri": "https://localhost:8080/"
        },
        "id": "zikrfgZX4FFD",
        "outputId": "7c8892a6-9b7e-4a5a-a7ea-158fe7fda01b"
      },
      "execution_count": null,
      "outputs": [
        {
          "output_type": "execute_result",
          "data": {
            "text/plain": [
              "version\n",
              "gate_30    1700.0\n",
              "gate_40    1600.0\n",
              "Name: sum_gamerounds, dtype: float64"
            ]
          },
          "metadata": {},
          "execution_count": 156
        }
      ]
    },
    {
      "cell_type": "markdown",
      "source": [
        "Видно, что медианное количество раундов в группах gate_40 и gate_30 отличается на 100"
      ],
      "metadata": {
        "id": "ERtbX8gN4RVm"
      }
    },
    {
      "cell_type": "code",
      "source": [
        "df_g30 = df.query('version == \"gate_30\"')\n",
        "df_g40 = df.query('version == \"gate_40\"')"
      ],
      "metadata": {
        "id": "iLOrUzlY4XHC"
      },
      "execution_count": null,
      "outputs": []
    },
    {
      "cell_type": "code",
      "source": [
        "p_value = stats.median_test(df_g30['sum_gamerounds'], df_g40['sum_gamerounds'])\n",
        "print(p_value[1])"
      ],
      "metadata": {
        "colab": {
          "base_uri": "https://localhost:8080/"
        },
        "id": "6tCiuIhICcwu",
        "outputId": "05f54e59-b9c6-4a55-faee-93319289a724"
      },
      "execution_count": null,
      "outputs": [
        {
          "output_type": "stream",
          "name": "stdout",
          "text": [
            "0.011310113730407696\n"
          ]
        }
      ]
    },
    {
      "cell_type": "code",
      "source": [
        "if p_value[1] < alpha:\n",
        "    print(\"Вердикт: Reject H_0\")\n",
        "else:\n",
        "    print(\"Вердикт: Do not reject H_0\")"
      ],
      "metadata": {
        "colab": {
          "base_uri": "https://localhost:8080/"
        },
        "id": "lXIMdIxZCezz",
        "outputId": "488c833c-eb8b-4163-e80e-cb6500977ca7"
      },
      "execution_count": null,
      "outputs": [
        {
          "output_type": "stream",
          "name": "stdout",
          "text": [
            "Вердикт: Reject H_0\n"
          ]
        }
      ]
    },
    {
      "cell_type": "markdown",
      "source": [
        "## Задача 4: Время покемонов"
      ],
      "metadata": {
        "id": "6irnYRP0C5PO"
      }
    },
    {
      "cell_type": "code",
      "source": [
        "df = pd.read_csv(\"https://raw.githubusercontent.com/V-Marco/public_intro_to_DS_mba_hse/main/HW/HW3/pokemon.csv\")\n",
        "df.head()"
      ],
      "metadata": {
        "colab": {
          "base_uri": "https://localhost:8080/",
          "height": 204
        },
        "id": "grMUJa3wDM_m",
        "outputId": "238d65cf-2d1e-4ca1-8187-ad4fb64c8160"
      },
      "execution_count": null,
      "outputs": [
        {
          "output_type": "execute_result",
          "data": {
            "text/plain": [
              "   pid           Name Class 1 Class 2  HP  Attack  Defense  Sp. Atk  Sp. Def  \\\n",
              "0    1      Bulbasaur   Grass  Poison  45      49       49       65       65   \n",
              "1    2        Ivysaur   Grass  Poison  60      62       63       80       80   \n",
              "2    3       Venusaur   Grass  Poison  80      82       83      100      100   \n",
              "3    4  Mega Venusaur   Grass  Poison  80     100      123      122      120   \n",
              "4    5     Charmander    Fire     NaN  39      52       43       60       50   \n",
              "\n",
              "   Speed  Legendary  \n",
              "0     45      False  \n",
              "1     60      False  \n",
              "2     80      False  \n",
              "3     80      False  \n",
              "4     65      False  "
            ],
            "text/html": [
              "\n",
              "  <div id=\"df-5f1d9243-9eb4-4c6c-8e48-4d9437348ac6\">\n",
              "    <div class=\"colab-df-container\">\n",
              "      <div>\n",
              "<style scoped>\n",
              "    .dataframe tbody tr th:only-of-type {\n",
              "        vertical-align: middle;\n",
              "    }\n",
              "\n",
              "    .dataframe tbody tr th {\n",
              "        vertical-align: top;\n",
              "    }\n",
              "\n",
              "    .dataframe thead th {\n",
              "        text-align: right;\n",
              "    }\n",
              "</style>\n",
              "<table border=\"1\" class=\"dataframe\">\n",
              "  <thead>\n",
              "    <tr style=\"text-align: right;\">\n",
              "      <th></th>\n",
              "      <th>pid</th>\n",
              "      <th>Name</th>\n",
              "      <th>Class 1</th>\n",
              "      <th>Class 2</th>\n",
              "      <th>HP</th>\n",
              "      <th>Attack</th>\n",
              "      <th>Defense</th>\n",
              "      <th>Sp. Atk</th>\n",
              "      <th>Sp. Def</th>\n",
              "      <th>Speed</th>\n",
              "      <th>Legendary</th>\n",
              "    </tr>\n",
              "  </thead>\n",
              "  <tbody>\n",
              "    <tr>\n",
              "      <th>0</th>\n",
              "      <td>1</td>\n",
              "      <td>Bulbasaur</td>\n",
              "      <td>Grass</td>\n",
              "      <td>Poison</td>\n",
              "      <td>45</td>\n",
              "      <td>49</td>\n",
              "      <td>49</td>\n",
              "      <td>65</td>\n",
              "      <td>65</td>\n",
              "      <td>45</td>\n",
              "      <td>False</td>\n",
              "    </tr>\n",
              "    <tr>\n",
              "      <th>1</th>\n",
              "      <td>2</td>\n",
              "      <td>Ivysaur</td>\n",
              "      <td>Grass</td>\n",
              "      <td>Poison</td>\n",
              "      <td>60</td>\n",
              "      <td>62</td>\n",
              "      <td>63</td>\n",
              "      <td>80</td>\n",
              "      <td>80</td>\n",
              "      <td>60</td>\n",
              "      <td>False</td>\n",
              "    </tr>\n",
              "    <tr>\n",
              "      <th>2</th>\n",
              "      <td>3</td>\n",
              "      <td>Venusaur</td>\n",
              "      <td>Grass</td>\n",
              "      <td>Poison</td>\n",
              "      <td>80</td>\n",
              "      <td>82</td>\n",
              "      <td>83</td>\n",
              "      <td>100</td>\n",
              "      <td>100</td>\n",
              "      <td>80</td>\n",
              "      <td>False</td>\n",
              "    </tr>\n",
              "    <tr>\n",
              "      <th>3</th>\n",
              "      <td>4</td>\n",
              "      <td>Mega Venusaur</td>\n",
              "      <td>Grass</td>\n",
              "      <td>Poison</td>\n",
              "      <td>80</td>\n",
              "      <td>100</td>\n",
              "      <td>123</td>\n",
              "      <td>122</td>\n",
              "      <td>120</td>\n",
              "      <td>80</td>\n",
              "      <td>False</td>\n",
              "    </tr>\n",
              "    <tr>\n",
              "      <th>4</th>\n",
              "      <td>5</td>\n",
              "      <td>Charmander</td>\n",
              "      <td>Fire</td>\n",
              "      <td>NaN</td>\n",
              "      <td>39</td>\n",
              "      <td>52</td>\n",
              "      <td>43</td>\n",
              "      <td>60</td>\n",
              "      <td>50</td>\n",
              "      <td>65</td>\n",
              "      <td>False</td>\n",
              "    </tr>\n",
              "  </tbody>\n",
              "</table>\n",
              "</div>\n",
              "      <button class=\"colab-df-convert\" onclick=\"convertToInteractive('df-5f1d9243-9eb4-4c6c-8e48-4d9437348ac6')\"\n",
              "              title=\"Convert this dataframe to an interactive table.\"\n",
              "              style=\"display:none;\">\n",
              "        \n",
              "  <svg xmlns=\"http://www.w3.org/2000/svg\" height=\"24px\"viewBox=\"0 0 24 24\"\n",
              "       width=\"24px\">\n",
              "    <path d=\"M0 0h24v24H0V0z\" fill=\"none\"/>\n",
              "    <path d=\"M18.56 5.44l.94 2.06.94-2.06 2.06-.94-2.06-.94-.94-2.06-.94 2.06-2.06.94zm-11 1L8.5 8.5l.94-2.06 2.06-.94-2.06-.94L8.5 2.5l-.94 2.06-2.06.94zm10 10l.94 2.06.94-2.06 2.06-.94-2.06-.94-.94-2.06-.94 2.06-2.06.94z\"/><path d=\"M17.41 7.96l-1.37-1.37c-.4-.4-.92-.59-1.43-.59-.52 0-1.04.2-1.43.59L10.3 9.45l-7.72 7.72c-.78.78-.78 2.05 0 2.83L4 21.41c.39.39.9.59 1.41.59.51 0 1.02-.2 1.41-.59l7.78-7.78 2.81-2.81c.8-.78.8-2.07 0-2.86zM5.41 20L4 18.59l7.72-7.72 1.47 1.35L5.41 20z\"/>\n",
              "  </svg>\n",
              "      </button>\n",
              "      \n",
              "  <style>\n",
              "    .colab-df-container {\n",
              "      display:flex;\n",
              "      flex-wrap:wrap;\n",
              "      gap: 12px;\n",
              "    }\n",
              "\n",
              "    .colab-df-convert {\n",
              "      background-color: #E8F0FE;\n",
              "      border: none;\n",
              "      border-radius: 50%;\n",
              "      cursor: pointer;\n",
              "      display: none;\n",
              "      fill: #1967D2;\n",
              "      height: 32px;\n",
              "      padding: 0 0 0 0;\n",
              "      width: 32px;\n",
              "    }\n",
              "\n",
              "    .colab-df-convert:hover {\n",
              "      background-color: #E2EBFA;\n",
              "      box-shadow: 0px 1px 2px rgba(60, 64, 67, 0.3), 0px 1px 3px 1px rgba(60, 64, 67, 0.15);\n",
              "      fill: #174EA6;\n",
              "    }\n",
              "\n",
              "    [theme=dark] .colab-df-convert {\n",
              "      background-color: #3B4455;\n",
              "      fill: #D2E3FC;\n",
              "    }\n",
              "\n",
              "    [theme=dark] .colab-df-convert:hover {\n",
              "      background-color: #434B5C;\n",
              "      box-shadow: 0px 1px 3px 1px rgba(0, 0, 0, 0.15);\n",
              "      filter: drop-shadow(0px 1px 2px rgba(0, 0, 0, 0.3));\n",
              "      fill: #FFFFFF;\n",
              "    }\n",
              "  </style>\n",
              "\n",
              "      <script>\n",
              "        const buttonEl =\n",
              "          document.querySelector('#df-5f1d9243-9eb4-4c6c-8e48-4d9437348ac6 button.colab-df-convert');\n",
              "        buttonEl.style.display =\n",
              "          google.colab.kernel.accessAllowed ? 'block' : 'none';\n",
              "\n",
              "        async function convertToInteractive(key) {\n",
              "          const element = document.querySelector('#df-5f1d9243-9eb4-4c6c-8e48-4d9437348ac6');\n",
              "          const dataTable =\n",
              "            await google.colab.kernel.invokeFunction('convertToInteractive',\n",
              "                                                     [key], {});\n",
              "          if (!dataTable) return;\n",
              "\n",
              "          const docLinkHtml = 'Like what you see? Visit the ' +\n",
              "            '<a target=\"_blank\" href=https://colab.research.google.com/notebooks/data_table.ipynb>data table notebook</a>'\n",
              "            + ' to learn more about interactive tables.';\n",
              "          element.innerHTML = '';\n",
              "          dataTable['output_type'] = 'display_data';\n",
              "          await google.colab.output.renderOutput(dataTable, element);\n",
              "          const docLink = document.createElement('div');\n",
              "          docLink.innerHTML = docLinkHtml;\n",
              "          element.appendChild(docLink);\n",
              "        }\n",
              "      </script>\n",
              "    </div>\n",
              "  </div>\n",
              "  "
            ]
          },
          "metadata": {},
          "execution_count": 160
        }
      ]
    },
    {
      "cell_type": "code",
      "source": [
        "df.info()"
      ],
      "metadata": {
        "colab": {
          "base_uri": "https://localhost:8080/"
        },
        "id": "rA7kf4IgDj7T",
        "outputId": "119ed51a-d53e-41dc-936b-1ce5d510f70d"
      },
      "execution_count": null,
      "outputs": [
        {
          "output_type": "stream",
          "name": "stdout",
          "text": [
            "<class 'pandas.core.frame.DataFrame'>\n",
            "RangeIndex: 800 entries, 0 to 799\n",
            "Data columns (total 11 columns):\n",
            " #   Column     Non-Null Count  Dtype \n",
            "---  ------     --------------  ----- \n",
            " 0   pid        800 non-null    int64 \n",
            " 1   Name       799 non-null    object\n",
            " 2   Class 1    800 non-null    object\n",
            " 3   Class 2    414 non-null    object\n",
            " 4   HP         800 non-null    int64 \n",
            " 5   Attack     800 non-null    int64 \n",
            " 6   Defense    800 non-null    int64 \n",
            " 7   Sp. Atk    800 non-null    int64 \n",
            " 8   Sp. Def    800 non-null    int64 \n",
            " 9   Speed      800 non-null    int64 \n",
            " 10  Legendary  800 non-null    bool  \n",
            "dtypes: bool(1), int64(7), object(3)\n",
            "memory usage: 63.4+ KB\n"
          ]
        }
      ]
    },
    {
      "cell_type": "code",
      "source": [
        "df.describe().T"
      ],
      "metadata": {
        "colab": {
          "base_uri": "https://localhost:8080/",
          "height": 266
        },
        "id": "jamYmGHdDoK-",
        "outputId": "275b1a8d-7c0e-46dd-9ec0-df99ac649e58"
      },
      "execution_count": null,
      "outputs": [
        {
          "output_type": "execute_result",
          "data": {
            "text/plain": [
              "         count       mean         std   min     25%    50%     75%    max\n",
              "pid      800.0  400.50000  231.084400   1.0  200.75  400.5  600.25  800.0\n",
              "HP       800.0   69.25875   25.534669   1.0   50.00   65.0   80.00  255.0\n",
              "Attack   800.0   79.00125   32.457366   5.0   55.00   75.0  100.00  190.0\n",
              "Defense  800.0   73.84250   31.183501   5.0   50.00   70.0   90.00  230.0\n",
              "Sp. Atk  800.0   72.82000   32.722294  10.0   49.75   65.0   95.00  194.0\n",
              "Sp. Def  800.0   71.90250   27.828916  20.0   50.00   70.0   90.00  230.0\n",
              "Speed    800.0   68.27750   29.060474   5.0   45.00   65.0   90.00  180.0"
            ],
            "text/html": [
              "\n",
              "  <div id=\"df-7cb000c3-5ba4-4c5b-97d6-c212ff8164a2\">\n",
              "    <div class=\"colab-df-container\">\n",
              "      <div>\n",
              "<style scoped>\n",
              "    .dataframe tbody tr th:only-of-type {\n",
              "        vertical-align: middle;\n",
              "    }\n",
              "\n",
              "    .dataframe tbody tr th {\n",
              "        vertical-align: top;\n",
              "    }\n",
              "\n",
              "    .dataframe thead th {\n",
              "        text-align: right;\n",
              "    }\n",
              "</style>\n",
              "<table border=\"1\" class=\"dataframe\">\n",
              "  <thead>\n",
              "    <tr style=\"text-align: right;\">\n",
              "      <th></th>\n",
              "      <th>count</th>\n",
              "      <th>mean</th>\n",
              "      <th>std</th>\n",
              "      <th>min</th>\n",
              "      <th>25%</th>\n",
              "      <th>50%</th>\n",
              "      <th>75%</th>\n",
              "      <th>max</th>\n",
              "    </tr>\n",
              "  </thead>\n",
              "  <tbody>\n",
              "    <tr>\n",
              "      <th>pid</th>\n",
              "      <td>800.0</td>\n",
              "      <td>400.50000</td>\n",
              "      <td>231.084400</td>\n",
              "      <td>1.0</td>\n",
              "      <td>200.75</td>\n",
              "      <td>400.5</td>\n",
              "      <td>600.25</td>\n",
              "      <td>800.0</td>\n",
              "    </tr>\n",
              "    <tr>\n",
              "      <th>HP</th>\n",
              "      <td>800.0</td>\n",
              "      <td>69.25875</td>\n",
              "      <td>25.534669</td>\n",
              "      <td>1.0</td>\n",
              "      <td>50.00</td>\n",
              "      <td>65.0</td>\n",
              "      <td>80.00</td>\n",
              "      <td>255.0</td>\n",
              "    </tr>\n",
              "    <tr>\n",
              "      <th>Attack</th>\n",
              "      <td>800.0</td>\n",
              "      <td>79.00125</td>\n",
              "      <td>32.457366</td>\n",
              "      <td>5.0</td>\n",
              "      <td>55.00</td>\n",
              "      <td>75.0</td>\n",
              "      <td>100.00</td>\n",
              "      <td>190.0</td>\n",
              "    </tr>\n",
              "    <tr>\n",
              "      <th>Defense</th>\n",
              "      <td>800.0</td>\n",
              "      <td>73.84250</td>\n",
              "      <td>31.183501</td>\n",
              "      <td>5.0</td>\n",
              "      <td>50.00</td>\n",
              "      <td>70.0</td>\n",
              "      <td>90.00</td>\n",
              "      <td>230.0</td>\n",
              "    </tr>\n",
              "    <tr>\n",
              "      <th>Sp. Atk</th>\n",
              "      <td>800.0</td>\n",
              "      <td>72.82000</td>\n",
              "      <td>32.722294</td>\n",
              "      <td>10.0</td>\n",
              "      <td>49.75</td>\n",
              "      <td>65.0</td>\n",
              "      <td>95.00</td>\n",
              "      <td>194.0</td>\n",
              "    </tr>\n",
              "    <tr>\n",
              "      <th>Sp. Def</th>\n",
              "      <td>800.0</td>\n",
              "      <td>71.90250</td>\n",
              "      <td>27.828916</td>\n",
              "      <td>20.0</td>\n",
              "      <td>50.00</td>\n",
              "      <td>70.0</td>\n",
              "      <td>90.00</td>\n",
              "      <td>230.0</td>\n",
              "    </tr>\n",
              "    <tr>\n",
              "      <th>Speed</th>\n",
              "      <td>800.0</td>\n",
              "      <td>68.27750</td>\n",
              "      <td>29.060474</td>\n",
              "      <td>5.0</td>\n",
              "      <td>45.00</td>\n",
              "      <td>65.0</td>\n",
              "      <td>90.00</td>\n",
              "      <td>180.0</td>\n",
              "    </tr>\n",
              "  </tbody>\n",
              "</table>\n",
              "</div>\n",
              "      <button class=\"colab-df-convert\" onclick=\"convertToInteractive('df-7cb000c3-5ba4-4c5b-97d6-c212ff8164a2')\"\n",
              "              title=\"Convert this dataframe to an interactive table.\"\n",
              "              style=\"display:none;\">\n",
              "        \n",
              "  <svg xmlns=\"http://www.w3.org/2000/svg\" height=\"24px\"viewBox=\"0 0 24 24\"\n",
              "       width=\"24px\">\n",
              "    <path d=\"M0 0h24v24H0V0z\" fill=\"none\"/>\n",
              "    <path d=\"M18.56 5.44l.94 2.06.94-2.06 2.06-.94-2.06-.94-.94-2.06-.94 2.06-2.06.94zm-11 1L8.5 8.5l.94-2.06 2.06-.94-2.06-.94L8.5 2.5l-.94 2.06-2.06.94zm10 10l.94 2.06.94-2.06 2.06-.94-2.06-.94-.94-2.06-.94 2.06-2.06.94z\"/><path d=\"M17.41 7.96l-1.37-1.37c-.4-.4-.92-.59-1.43-.59-.52 0-1.04.2-1.43.59L10.3 9.45l-7.72 7.72c-.78.78-.78 2.05 0 2.83L4 21.41c.39.39.9.59 1.41.59.51 0 1.02-.2 1.41-.59l7.78-7.78 2.81-2.81c.8-.78.8-2.07 0-2.86zM5.41 20L4 18.59l7.72-7.72 1.47 1.35L5.41 20z\"/>\n",
              "  </svg>\n",
              "      </button>\n",
              "      \n",
              "  <style>\n",
              "    .colab-df-container {\n",
              "      display:flex;\n",
              "      flex-wrap:wrap;\n",
              "      gap: 12px;\n",
              "    }\n",
              "\n",
              "    .colab-df-convert {\n",
              "      background-color: #E8F0FE;\n",
              "      border: none;\n",
              "      border-radius: 50%;\n",
              "      cursor: pointer;\n",
              "      display: none;\n",
              "      fill: #1967D2;\n",
              "      height: 32px;\n",
              "      padding: 0 0 0 0;\n",
              "      width: 32px;\n",
              "    }\n",
              "\n",
              "    .colab-df-convert:hover {\n",
              "      background-color: #E2EBFA;\n",
              "      box-shadow: 0px 1px 2px rgba(60, 64, 67, 0.3), 0px 1px 3px 1px rgba(60, 64, 67, 0.15);\n",
              "      fill: #174EA6;\n",
              "    }\n",
              "\n",
              "    [theme=dark] .colab-df-convert {\n",
              "      background-color: #3B4455;\n",
              "      fill: #D2E3FC;\n",
              "    }\n",
              "\n",
              "    [theme=dark] .colab-df-convert:hover {\n",
              "      background-color: #434B5C;\n",
              "      box-shadow: 0px 1px 3px 1px rgba(0, 0, 0, 0.15);\n",
              "      filter: drop-shadow(0px 1px 2px rgba(0, 0, 0, 0.3));\n",
              "      fill: #FFFFFF;\n",
              "    }\n",
              "  </style>\n",
              "\n",
              "      <script>\n",
              "        const buttonEl =\n",
              "          document.querySelector('#df-7cb000c3-5ba4-4c5b-97d6-c212ff8164a2 button.colab-df-convert');\n",
              "        buttonEl.style.display =\n",
              "          google.colab.kernel.accessAllowed ? 'block' : 'none';\n",
              "\n",
              "        async function convertToInteractive(key) {\n",
              "          const element = document.querySelector('#df-7cb000c3-5ba4-4c5b-97d6-c212ff8164a2');\n",
              "          const dataTable =\n",
              "            await google.colab.kernel.invokeFunction('convertToInteractive',\n",
              "                                                     [key], {});\n",
              "          if (!dataTable) return;\n",
              "\n",
              "          const docLinkHtml = 'Like what you see? Visit the ' +\n",
              "            '<a target=\"_blank\" href=https://colab.research.google.com/notebooks/data_table.ipynb>data table notebook</a>'\n",
              "            + ' to learn more about interactive tables.';\n",
              "          element.innerHTML = '';\n",
              "          dataTable['output_type'] = 'display_data';\n",
              "          await google.colab.output.renderOutput(dataTable, element);\n",
              "          const docLink = document.createElement('div');\n",
              "          docLink.innerHTML = docLinkHtml;\n",
              "          element.appendChild(docLink);\n",
              "        }\n",
              "      </script>\n",
              "    </div>\n",
              "  </div>\n",
              "  "
            ]
          },
          "metadata": {},
          "execution_count": 162
        }
      ]
    },
    {
      "cell_type": "code",
      "source": [
        "print(df.isnull().sum()[df.columns[df.isnull().any()]])\n",
        "print(\"Total Missing values : \",df.isna().sum().sum())"
      ],
      "metadata": {
        "colab": {
          "base_uri": "https://localhost:8080/"
        },
        "id": "63lXEst1EgE5",
        "outputId": "b60155e0-a2d3-470d-cb28-3b60080c474e"
      },
      "execution_count": null,
      "outputs": [
        {
          "output_type": "stream",
          "name": "stdout",
          "text": [
            "Name         1\n",
            "Class 2    386\n",
            "dtype: int64\n",
            "Total Missing values :  387\n"
          ]
        }
      ]
    },
    {
      "cell_type": "code",
      "source": [
        "df[\"Class\"] = df[\"Class 1\"].astype(str) +' ' + df[\"Class 2\"]\n",
        "df['Class']"
      ],
      "metadata": {
        "colab": {
          "base_uri": "https://localhost:8080/"
        },
        "id": "oYKmg3Y6EzFV",
        "outputId": "4b68a0d5-321a-4cb5-d81a-a6955bb080d9"
      },
      "execution_count": null,
      "outputs": [
        {
          "output_type": "execute_result",
          "data": {
            "text/plain": [
              "0       Grass Poison\n",
              "1       Grass Poison\n",
              "2       Grass Poison\n",
              "3       Grass Poison\n",
              "4                NaN\n",
              "           ...      \n",
              "795       Rock Fairy\n",
              "796       Rock Fairy\n",
              "797    Psychic Ghost\n",
              "798     Psychic Dark\n",
              "799       Fire Water\n",
              "Name: Class, Length: 800, dtype: object"
            ]
          },
          "metadata": {},
          "execution_count": 164
        }
      ]
    },
    {
      "cell_type": "code",
      "source": [
        "df['Class 2'].isnull().sum()"
      ],
      "metadata": {
        "colab": {
          "base_uri": "https://localhost:8080/"
        },
        "id": "4ayJm0AzFXDW",
        "outputId": "e2de89c3-c047-46f7-b2e8-b82a5838c953"
      },
      "execution_count": null,
      "outputs": [
        {
          "output_type": "execute_result",
          "data": {
            "text/plain": [
              "386"
            ]
          },
          "metadata": {},
          "execution_count": 165
        }
      ]
    },
    {
      "cell_type": "code",
      "source": [
        "valc_class1 = df['Class 1'].value_counts()\n",
        "valc_class2 = df['Class 2'].value_counts()\n",
        "classes_df = pd.concat([valc_class1,valc_class2],axis=1)"
      ],
      "metadata": {
        "id": "OhxbD3s1FWrX"
      },
      "execution_count": null,
      "outputs": []
    },
    {
      "cell_type": "code",
      "source": [
        "classes_df.plot(kind='bar',stacked=True, color=['red', 'green'],figsize=(12,6))"
      ],
      "metadata": {
        "colab": {
          "base_uri": "https://localhost:8080/",
          "height": 421
        },
        "id": "JD-Vz1YwFmtF",
        "outputId": "3ed30e70-0b02-4497-e584-59d05b5c5f0c"
      },
      "execution_count": null,
      "outputs": [
        {
          "output_type": "execute_result",
          "data": {
            "text/plain": [
              "<matplotlib.axes._subplots.AxesSubplot at 0x7f4daec7a690>"
            ]
          },
          "metadata": {},
          "execution_count": 167
        },
        {
          "output_type": "display_data",
          "data": {
            "text/plain": [
              "<Figure size 864x432 with 1 Axes>"
            ],
            "image/png": "[encoded data removed]"
          },
          "metadata": {
            "needs_background": "light"
          }
        }
      ]
    },
    {
      "cell_type": "markdown",
      "source": [
        "Рассмотрим топ-15 классов покемонов чей 'Class 2' не пустой"
      ],
      "metadata": {
        "id": "4SAI1kQbF4wF"
      }
    },
    {
      "cell_type": "code",
      "source": [
        "class_top15 = df[~df['Class 2'].isnull()][\"Class\"].value_counts()[:15]"
      ],
      "metadata": {
        "id": "B0oqRUkBF5f-"
      },
      "execution_count": null,
      "outputs": []
    },
    {
      "cell_type": "code",
      "source": [
        "import seaborn as sns\n",
        "import matplotlib.pyplot as plt\n",
        "sns.set_style(\"darkgrid\")\n",
        "\n",
        "plt.figure(figsize=(12,6))\n",
        "ax = sns.barplot(y = class_top15.index,x = class_top15.values)\n",
        "ax.set_title(\"Most Common Type Combinations\")"
      ],
      "metadata": {
        "colab": {
          "base_uri": "https://localhost:8080/",
          "height": 407
        },
        "id": "Fo4pkGoLGPo8",
        "outputId": "0885e370-5412-4385-e2b7-2ca748670d91"
      },
      "execution_count": null,
      "outputs": [
        {
          "output_type": "execute_result",
          "data": {
            "text/plain": [
              "Text(0.5, 1.0, 'Most Common Type Combinations')"
            ]
          },
          "metadata": {},
          "execution_count": 169
        },
        {
          "output_type": "display_data",
          "data": {
            "text/plain": [
              "<Figure size 864x432 with 1 Axes>"
            ],
            "image/png": "[encoded data removed]"
          },
          "metadata": {}
        }
      ]
    },
    {
      "cell_type": "markdown",
      "source": [
        "##Вопрос 1.\n",
        "\n",
        "Профессор Оук подозревает, что покемоны в классе `grass` имеют более сильную обычную атаку, чем у покемонов в классе `rock`. Проверьте, прав ли он, и убедите его в своем выводе статистически. "
      ],
      "metadata": {
        "id": "jiLDyTnkELBs"
      }
    },
    {
      "cell_type": "markdown",
      "source": [
        "one-tailed hypothesis testing \n",
        "\n",
        "$H_0$ (нулевая гипотеза): $ \\mu_1 (grass) = \\mu_2 (rock)$, тогда обычные атаки покемонов в этих двух классах не различаются \n",
        "\n",
        "$H_1$ (альтернативная гипотеза): $ \\mu_1 (grass) > \\mu_2 (rock)$, тогда обычная атака покемонов `grass` значительно сильнее, чем у `rock`\n",
        "\n",
        "P.S. ошибка 1-го рода: $\\alpha$ = 0.05 (уровень значимости)"
      ],
      "metadata": {
        "id": "Eg9pvh9iMG6E"
      }
    },
    {
      "cell_type": "code",
      "source": [
        "df = pd.read_csv(\"https://raw.githubusercontent.com/V-Marco/public_intro_to_DS_mba_hse/main/HW/HW3/pokemon.csv\")\n",
        "df.head()"
      ],
      "metadata": {
        "colab": {
          "base_uri": "https://localhost:8080/",
          "height": 204
        },
        "id": "iSgYR5yNPVdW",
        "outputId": "1565eecd-2879-4fa6-ee85-46e381860666"
      },
      "execution_count": null,
      "outputs": [
        {
          "output_type": "execute_result",
          "data": {
            "text/plain": [
              "   pid           Name Class 1 Class 2  HP  Attack  Defense  Sp. Atk  Sp. Def  \\\n",
              "0    1      Bulbasaur   Grass  Poison  45      49       49       65       65   \n",
              "1    2        Ivysaur   Grass  Poison  60      62       63       80       80   \n",
              "2    3       Venusaur   Grass  Poison  80      82       83      100      100   \n",
              "3    4  Mega Venusaur   Grass  Poison  80     100      123      122      120   \n",
              "4    5     Charmander    Fire     NaN  39      52       43       60       50   \n",
              "\n",
              "   Speed  Legendary  \n",
              "0     45      False  \n",
              "1     60      False  \n",
              "2     80      False  \n",
              "3     80      False  \n",
              "4     65      False  "
            ],
            "text/html": [
              "\n",
              "  <div id=\"df-ff69fc57-50f5-460e-bca2-ae8017e10e84\">\n",
              "    <div class=\"colab-df-container\">\n",
              "      <div>\n",
              "<style scoped>\n",
              "    .dataframe tbody tr th:only-of-type {\n",
              "        vertical-align: middle;\n",
              "    }\n",
              "\n",
              "    .dataframe tbody tr th {\n",
              "        vertical-align: top;\n",
              "    }\n",
              "\n",
              "    .dataframe thead th {\n",
              "        text-align: right;\n",
              "    }\n",
              "</style>\n",
              "<table border=\"1\" class=\"dataframe\">\n",
              "  <thead>\n",
              "    <tr style=\"text-align: right;\">\n",
              "      <th></th>\n",
              "      <th>pid</th>\n",
              "      <th>Name</th>\n",
              "      <th>Class 1</th>\n",
              "      <th>Class 2</th>\n",
              "      <th>HP</th>\n",
              "      <th>Attack</th>\n",
              "      <th>Defense</th>\n",
              "      <th>Sp. Atk</th>\n",
              "      <th>Sp. Def</th>\n",
              "      <th>Speed</th>\n",
              "      <th>Legendary</th>\n",
              "    </tr>\n",
              "  </thead>\n",
              "  <tbody>\n",
              "    <tr>\n",
              "      <th>0</th>\n",
              "      <td>1</td>\n",
              "      <td>Bulbasaur</td>\n",
              "      <td>Grass</td>\n",
              "      <td>Poison</td>\n",
              "      <td>45</td>\n",
              "      <td>49</td>\n",
              "      <td>49</td>\n",
              "      <td>65</td>\n",
              "      <td>65</td>\n",
              "      <td>45</td>\n",
              "      <td>False</td>\n",
              "    </tr>\n",
              "    <tr>\n",
              "      <th>1</th>\n",
              "      <td>2</td>\n",
              "      <td>Ivysaur</td>\n",
              "      <td>Grass</td>\n",
              "      <td>Poison</td>\n",
              "      <td>60</td>\n",
              "      <td>62</td>\n",
              "      <td>63</td>\n",
              "      <td>80</td>\n",
              "      <td>80</td>\n",
              "      <td>60</td>\n",
              "      <td>False</td>\n",
              "    </tr>\n",
              "    <tr>\n",
              "      <th>2</th>\n",
              "      <td>3</td>\n",
              "      <td>Venusaur</td>\n",
              "      <td>Grass</td>\n",
              "      <td>Poison</td>\n",
              "      <td>80</td>\n",
              "      <td>82</td>\n",
              "      <td>83</td>\n",
              "      <td>100</td>\n",
              "      <td>100</td>\n",
              "      <td>80</td>\n",
              "      <td>False</td>\n",
              "    </tr>\n",
              "    <tr>\n",
              "      <th>3</th>\n",
              "      <td>4</td>\n",
              "      <td>Mega Venusaur</td>\n",
              "      <td>Grass</td>\n",
              "      <td>Poison</td>\n",
              "      <td>80</td>\n",
              "      <td>100</td>\n",
              "      <td>123</td>\n",
              "      <td>122</td>\n",
              "      <td>120</td>\n",
              "      <td>80</td>\n",
              "      <td>False</td>\n",
              "    </tr>\n",
              "    <tr>\n",
              "      <th>4</th>\n",
              "      <td>5</td>\n",
              "      <td>Charmander</td>\n",
              "      <td>Fire</td>\n",
              "      <td>NaN</td>\n",
              "      <td>39</td>\n",
              "      <td>52</td>\n",
              "      <td>43</td>\n",
              "      <td>60</td>\n",
              "      <td>50</td>\n",
              "      <td>65</td>\n",
              "      <td>False</td>\n",
              "    </tr>\n",
              "  </tbody>\n",
              "</table>\n",
              "</div>\n",
              "      <button class=\"colab-df-convert\" onclick=\"convertToInteractive('df-ff69fc57-50f5-460e-bca2-ae8017e10e84')\"\n",
              "              title=\"Convert this dataframe to an interactive table.\"\n",
              "              style=\"display:none;\">\n",
              "        \n",
              "  <svg xmlns=\"http://www.w3.org/2000/svg\" height=\"24px\"viewBox=\"0 0 24 24\"\n",
              "       width=\"24px\">\n",
              "    <path d=\"M0 0h24v24H0V0z\" fill=\"none\"/>\n",
              "    <path d=\"M18.56 5.44l.94 2.06.94-2.06 2.06-.94-2.06-.94-.94-2.06-.94 2.06-2.06.94zm-11 1L8.5 8.5l.94-2.06 2.06-.94-2.06-.94L8.5 2.5l-.94 2.06-2.06.94zm10 10l.94 2.06.94-2.06 2.06-.94-2.06-.94-.94-2.06-.94 2.06-2.06.94z\"/><path d=\"M17.41 7.96l-1.37-1.37c-.4-.4-.92-.59-1.43-.59-.52 0-1.04.2-1.43.59L10.3 9.45l-7.72 7.72c-.78.78-.78 2.05 0 2.83L4 21.41c.39.39.9.59 1.41.59.51 0 1.02-.2 1.41-.59l7.78-7.78 2.81-2.81c.8-.78.8-2.07 0-2.86zM5.41 20L4 18.59l7.72-7.72 1.47 1.35L5.41 20z\"/>\n",
              "  </svg>\n",
              "      </button>\n",
              "      \n",
              "  <style>\n",
              "    .colab-df-container {\n",
              "      display:flex;\n",
              "      flex-wrap:wrap;\n",
              "      gap: 12px;\n",
              "    }\n",
              "\n",
              "    .colab-df-convert {\n",
              "      background-color: #E8F0FE;\n",
              "      border: none;\n",
              "      border-radius: 50%;\n",
              "      cursor: pointer;\n",
              "      display: none;\n",
              "      fill: #1967D2;\n",
              "      height: 32px;\n",
              "      padding: 0 0 0 0;\n",
              "      width: 32px;\n",
              "    }\n",
              "\n",
              "    .colab-df-convert:hover {\n",
              "      background-color: #E2EBFA;\n",
              "      box-shadow: 0px 1px 2px rgba(60, 64, 67, 0.3), 0px 1px 3px 1px rgba(60, 64, 67, 0.15);\n",
              "      fill: #174EA6;\n",
              "    }\n",
              "\n",
              "    [theme=dark] .colab-df-convert {\n",
              "      background-color: #3B4455;\n",
              "      fill: #D2E3FC;\n",
              "    }\n",
              "\n",
              "    [theme=dark] .colab-df-convert:hover {\n",
              "      background-color: #434B5C;\n",
              "      box-shadow: 0px 1px 3px 1px rgba(0, 0, 0, 0.15);\n",
              "      filter: drop-shadow(0px 1px 2px rgba(0, 0, 0, 0.3));\n",
              "      fill: #FFFFFF;\n",
              "    }\n",
              "  </style>\n",
              "\n",
              "      <script>\n",
              "        const buttonEl =\n",
              "          document.querySelector('#df-ff69fc57-50f5-460e-bca2-ae8017e10e84 button.colab-df-convert');\n",
              "        buttonEl.style.display =\n",
              "          google.colab.kernel.accessAllowed ? 'block' : 'none';\n",
              "\n",
              "        async function convertToInteractive(key) {\n",
              "          const element = document.querySelector('#df-ff69fc57-50f5-460e-bca2-ae8017e10e84');\n",
              "          const dataTable =\n",
              "            await google.colab.kernel.invokeFunction('convertToInteractive',\n",
              "                                                     [key], {});\n",
              "          if (!dataTable) return;\n",
              "\n",
              "          const docLinkHtml = 'Like what you see? Visit the ' +\n",
              "            '<a target=\"_blank\" href=https://colab.research.google.com/notebooks/data_table.ipynb>data table notebook</a>'\n",
              "            + ' to learn more about interactive tables.';\n",
              "          element.innerHTML = '';\n",
              "          dataTable['output_type'] = 'display_data';\n",
              "          await google.colab.output.renderOutput(dataTable, element);\n",
              "          const docLink = document.createElement('div');\n",
              "          docLink.innerHTML = docLinkHtml;\n",
              "          element.appendChild(docLink);\n",
              "        }\n",
              "      </script>\n",
              "    </div>\n",
              "  </div>\n",
              "  "
            ]
          },
          "metadata": {},
          "execution_count": 170
        }
      ]
    },
    {
      "cell_type": "code",
      "source": [
        "df_grass = df[df[\"Class 1\"] == 'Grass']\n",
        "df_rock = df[df[\"Class 1\"] == 'Rock']"
      ],
      "metadata": {
        "id": "NvRQwWxZDoBJ"
      },
      "execution_count": null,
      "outputs": []
    },
    {
      "cell_type": "code",
      "source": [
        "!pip install --upgrade scipy"
      ],
      "metadata": {
        "colab": {
          "base_uri": "https://localhost:8080/"
        },
        "id": "7CvzvdXcQAP4",
        "outputId": "e3496163-e520-4c6a-cef9-b84268a710d7"
      },
      "execution_count": null,
      "outputs": [
        {
          "output_type": "stream",
          "name": "stdout",
          "text": [
            "Looking in indexes: https://pypi.org/simple, https://us-python.pkg.dev/colab-wheels/public/simple/\n",
            "Requirement already satisfied: scipy in /usr/local/lib/python3.7/dist-packages (1.7.3)\n",
            "Requirement already satisfied: numpy<1.23.0,>=1.16.5 in /usr/local/lib/python3.7/dist-packages (from scipy) (1.21.6)\n"
          ]
        }
      ]
    },
    {
      "cell_type": "code",
      "source": [
        "# имея разные variance\n",
        "p_value = stats.ttest_ind(df_grass['Attack'], df_rock['Attack'], alternative='greater', equal_var=False)\n",
        "print(p_value.pvalue)"
      ],
      "metadata": {
        "colab": {
          "base_uri": "https://localhost:8080/"
        },
        "id": "wfzBZ8Q1Dn37",
        "outputId": "6ec29742-f086-4bdd-c645-82edfce412ba"
      },
      "execution_count": null,
      "outputs": [
        {
          "output_type": "stream",
          "name": "stdout",
          "text": [
            "0.9989896717530655\n"
          ]
        }
      ]
    },
    {
      "cell_type": "code",
      "source": [
        "if p_value.pvalue < alpha:\n",
        "    print(\"Вердикт: Reject H_0\")\n",
        "else:\n",
        "    print(\"Вердикт: Do not reject H_0\")"
      ],
      "metadata": {
        "id": "8J4k_w0HU0Qn"
      },
      "execution_count": null,
      "outputs": []
    },
    {
      "cell_type": "markdown",
      "source": [
        "Поскольку мы не отвергаем нулевую гипотезу, $ \\mu_1 (grass) = \\mu_2 (rock)$, тогда обычные атаки покемонов в этих двух классах не различаются, другими словами, покемоны в классе `grass` имеют такую же сильную обычную атаку, как и покемоны в классе `rock`. Также значение $p$ может говорить о том, что сильная обычная атака у покемонов `grass` может быть и значительно меньше, чем у класса `rock`."
      ],
      "metadata": {
        "id": "pPj-Q_WpSs2S"
      }
    },
    {
      "cell_type": "markdown",
      "source": [
        "##Вопрос 2.\n",
        "\n",
        "Также профессор Оук очень хочет проверить, правда ли нет значимой разницы между силой обычной атаки и силой обычной защиты у покемонов. Помогите ему и ответьте на вопрос, подтвердив свои выводы с помощью проверки статистических гипотез"
      ],
      "metadata": {
        "id": "jz2euEfvTpw2"
      }
    },
    {
      "cell_type": "markdown",
      "source": [
        "two-tailed hypothesis testing \n",
        "\n",
        "$H_0$ (нулевая гипотеза): $ \\mu_1 (attack) = \\mu_2 (defense)$, тогда силы обычной атаки и силы обычной защиты не различаются\n",
        "\n",
        "$H_1$ (альтернативная гипотеза): $ \\mu_1 (attack) ≠ \\mu_2 (defense)$, тогда силы обычной атаки и силы обычной защиты различаются\n",
        "\n",
        "P.S. ошибка 1-го рода: $\\alpha$ = 0.05 (уровень значимости)"
      ],
      "metadata": {
        "id": "okb2wOk3T0MA"
      }
    },
    {
      "cell_type": "code",
      "source": [
        "# имея разные variance\n",
        "p_value = stats.ttest_ind(df['Attack'], df['Defense'], equal_var=False)\n",
        "print(p_value.pvalue)"
      ],
      "metadata": {
        "colab": {
          "base_uri": "https://localhost:8080/"
        },
        "id": "BWTRxl2_Dng-",
        "outputId": "de0c4b29-a7e0-45e8-8b47-c4daf99cf26a"
      },
      "execution_count": null,
      "outputs": [
        {
          "output_type": "stream",
          "name": "stdout",
          "text": [
            "0.0012124374824544375\n"
          ]
        }
      ]
    },
    {
      "cell_type": "code",
      "source": [
        "if p_value.pvalue < alpha:\n",
        "    print(\"Вердикт: Reject H_0\")\n",
        "else:\n",
        "    print(\"Вердикт: Do not reject H_0\")"
      ],
      "metadata": {
        "colab": {
          "base_uri": "https://localhost:8080/"
        },
        "id": "gDE2XyDnUpeL",
        "outputId": "5e41b971-f560-433d-d7af-610dfc632863"
      },
      "execution_count": null,
      "outputs": [
        {
          "output_type": "stream",
          "name": "stdout",
          "text": [
            "Вердикт: Reject H_0\n"
          ]
        }
      ]
    },
    {
      "cell_type": "markdown",
      "source": [
        "Поскольку мы не отвергаем нулевую гипотезу, $ \\mu_1 (attack) ≠ \\mu_2 (defense)$, тогда силы обычной атаки и силы обычной защиты различаются и также значение $p$ не очень велико."
      ],
      "metadata": {
        "id": "hulmsGxPVHQz"
      }
    },
    {
      "cell_type": "markdown",
      "source": [
        "##Вопрос 3.\n",
        "\n",
        "И последний вопрос, который мучает профессора Оука: правда ли, что средняя скорость покемонов превышает 66.6 ? Сформулируйте подходящие гипотезы и помогите профессору Оуку, ответив на вопрос."
      ],
      "metadata": {
        "id": "qdgGtb-vVgmm"
      }
    },
    {
      "cell_type": "markdown",
      "source": [
        "one-tailed hypothesis testing\n",
        "\n",
        "$H_0$ (нулевая гипотеза): $ \\mu (speed) = 66.6$\n",
        "\n",
        "$H_1$ (альтернативная гипотеза): $ \\mu (speed) > 66.6$\n",
        "\n",
        "P.S. ошибка 1-го рода: $\\alpha$ = 0.05 (уровень значимости)"
      ],
      "metadata": {
        "id": "DW4r3I1eVmK5"
      }
    },
    {
      "cell_type": "code",
      "source": [
        "speed = [66.6] * len(df['Speed'])"
      ],
      "metadata": {
        "id": "0zBEeIjWVmxP"
      },
      "execution_count": null,
      "outputs": []
    },
    {
      "cell_type": "code",
      "source": [
        "# имея разные variance\n",
        "p_value = stats.ttest_ind(df['Speed'], speed, alternative='greater', equal_var=False)\n",
        "print(p_value.pvalue)"
      ],
      "metadata": {
        "colab": {
          "base_uri": "https://localhost:8080/"
        },
        "id": "WEqXfQorWQQr",
        "outputId": "38e796a2-4fbb-48a0-b864-711e1ffa3260"
      },
      "execution_count": null,
      "outputs": [
        {
          "output_type": "stream",
          "name": "stdout",
          "text": [
            "0.05146366754908849\n"
          ]
        }
      ]
    },
    {
      "cell_type": "code",
      "source": [
        "if p_value.pvalue < alpha:\n",
        "    print(\"Вердикт: Reject H_0\")\n",
        "else:\n",
        "    print(\"Вердикт: Do not reject H_0\")"
      ],
      "metadata": {
        "colab": {
          "base_uri": "https://localhost:8080/"
        },
        "id": "LB3Kr6aKWdC-",
        "outputId": "011e5ab3-f788-466f-c5fd-27fd9c2daa82"
      },
      "execution_count": null,
      "outputs": [
        {
          "output_type": "stream",
          "name": "stdout",
          "text": [
            "Вердикт: Do not reject H_0\n"
          ]
        }
      ]
    },
    {
      "cell_type": "markdown",
      "source": [
        "Поскольку мы не отвергаем нулевую гипотезу, тогда и правда $ \\mu (speed) = 66.6$, что говорит о том, что средняя скорость покемонов превышает 66.6, Q.E.D."
      ],
      "metadata": {
        "id": "acjqKNc-WtlM"
      }
    }
  ]
}